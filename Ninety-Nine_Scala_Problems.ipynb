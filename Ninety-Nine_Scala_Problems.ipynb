{
 "cells": [
  {
   "cell_type": "markdown",
   "metadata": {},
   "source": [
    "## Practicing for functional programming\n",
    "\n",
    "http://aperiodic.net/phil/scala/s-99/\n"
   ]
  },
  {
   "cell_type": "code",
   "execution_count": 25,
   "metadata": {},
   "outputs": [
    {
     "data": {
      "text/plain": [
       "last: [A](xs: List[A])A\r\n",
       "res18: Int = 4\r\n"
      ]
     },
     "execution_count": 25,
     "metadata": {},
     "output_type": "execute_result"
    }
   ],
   "source": [
    "/* \n",
    "P01 Find the last element of a list. Example:\n",
    "scala> last(List(1, 1, 2, 3, 5, 8))\n",
    "res0: Int = 8\n",
    "*/\n",
    "\n",
    "@annotation.tailrec\n",
    "def last[A](xs:List[A]): A = xs match {\n",
    "    case h :: Nil => h\n",
    "    case h :: t => last(t)\n",
    "    case _ => throw new NoSuchElementException\n",
    "}\n",
    "\n",
    "last(List(1,2,3,4))"
   ]
  },
  {
   "cell_type": "code",
   "execution_count": 29,
   "metadata": {},
   "outputs": [
    {
     "data": {
      "text/plain": [
       "penultimate: [A](xs: List[A])A\r\n",
       "res19: Int = 5\r\n"
      ]
     },
     "execution_count": 29,
     "metadata": {},
     "output_type": "execute_result"
    }
   ],
   "source": [
    "/*\n",
    "P02 (*) Find the last but one element of a list.\n",
    "Example:\n",
    "scala> penultimate(List(1, 1, 2, 3, 5, 8))\n",
    "res0: Int = 5\n",
    "--> 2번째를 찾아라?\n",
    "*/\n",
    "@annotation.tailrec\n",
    "def penultimate[A](xs:List[A]): A = xs match {\n",
    "    case h1 :: h2 :: Nil => h1\n",
    "    case h :: t => penultimate(t)\n",
    "    case _ => throw new NoSuchElementException\n",
    "}\n",
    "penultimate(List(1, 1, 2, 3, 5, 8))"
   ]
  },
  {
   "cell_type": "code",
   "execution_count": 36,
   "metadata": {},
   "outputs": [
    {
     "data": {
      "text/plain": [
       "nth: [A](idx: Int, xs: List[A])A\r\n",
       "res23: Int = 8\r\n"
      ]
     },
     "execution_count": 36,
     "metadata": {},
     "output_type": "execute_result"
    }
   ],
   "source": [
    "// P03 (*) Find the Kth element of a list.\n",
    "// By convention, the first element in the list is element 0.\n",
    "// Example:\n",
    "\n",
    "// scala> nth(2, List(1, 1, 2, 3, 5, 8))\n",
    "// res0: Int = 2\n",
    "\n",
    "def nth[A](idx:Int, xs:List[A]): A = xs match {\n",
    "    case h :: t => if(idx == 0) h else nth(idx-1,t)\n",
    "    case _ => throw new Exception\n",
    "}\n",
    "nth(5, List(1, 1, 2, 3, 5, 8))"
   ]
  },
  {
   "cell_type": "code",
   "execution_count": 64,
   "metadata": {},
   "outputs": [
    {
     "name": "stdout",
     "output_type": "stream",
     "text": [
      "6\n",
      "6\n"
     ]
    },
    {
     "data": {
      "text/plain": [
       "length: [A](xs: List[A])Int\r\n"
      ]
     },
     "execution_count": 64,
     "metadata": {},
     "output_type": "execute_result"
    }
   ],
   "source": [
    "// P04 (*) Find the number of elements of a list.\n",
    "// Example:\n",
    "// scala> length(List(1, 1, 2, 3, 5, 8))\n",
    "// res0: Int = 6\n",
    "\n",
    "def length[A](xs:List[A]):Int = {\n",
    "    val l = 0\n",
    "    def go(l:Int,xs:List[A]):Int = xs match {\n",
    "        case Nil => l\n",
    "        case h :: t => go(l+1,t)\n",
    "    }\n",
    "    go(l,xs)\n",
    "}\n",
    "println(length(List(1, 1, 2, 3, 5, 8)))\n",
    "\n",
    "//with statndard library\n",
    "println(List(1, 1, 2, 3, 5, 8).size)"
   ]
  },
  {
   "cell_type": "code",
   "execution_count": 90,
   "metadata": {},
   "outputs": [
    {
     "name": "stdout",
     "output_type": "stream",
     "text": [
      "List(8, 5, 3, 2, 1, 1)\n",
      "List(8, 5, 3, 2, 1, 1)\n"
     ]
    },
    {
     "data": {
      "text/plain": [
       "reverse: [A](xs: List[A])List[A]\r\n"
      ]
     },
     "execution_count": 90,
     "metadata": {},
     "output_type": "execute_result"
    }
   ],
   "source": [
    "// P05 (*) Reverse a list.\n",
    "// Example:\n",
    "// scala> reverse(List(1, 1, 2, 3, 5, 8))\n",
    "// res0: List[Int] = List(8, 5, 3, 2, 1, 1)\n",
    "\n",
    "def reverse[A](xs:List[A]):List[A] = {\n",
    "    xs.foldLeft(List[A]())((xs,x)=>x::xs)\n",
    "}\n",
    "println(reverse(List(1, 1, 2, 3, 5, 8)))\n",
    "\n",
    "// with standard library\n",
    "println(List(1, 1, 2, 3, 5, 8).reverse)"
   ]
  },
  {
   "cell_type": "code",
   "execution_count": 68,
   "metadata": {},
   "outputs": [
    {
     "name": "stdout",
     "output_type": "stream",
     "text": [
      "true\n",
      "true\n"
     ]
    },
    {
     "data": {
      "text/plain": [
       "isPalindrome: [A](xs: List[A])Boolean\r\n",
       "isPalindrome2: [A](xs: List[A])Boolean\r\n"
      ]
     },
     "execution_count": 68,
     "metadata": {},
     "output_type": "execute_result"
    }
   ],
   "source": [
    "// P06 (*) Find out whether a list is a palindrome.\n",
    "// Example:\n",
    "// scala> isPalindrome(List(1, 2, 3, 2, 1))\n",
    "// res0: Boolean = true\n",
    "\n",
    "def isPalindrome[A](xs:List[A]):Boolean = {\n",
    "    reverse(xs) == xs\n",
    "}\n",
    "println(isPalindrome(List(1, 2, 3, 2, 1)))\n",
    "\n",
    "def isPalindrome2[A](xs:List[A]):Boolean = {\n",
    "    reverse(xs).zip(xs).forall{case (x,y) => x == y}\n",
    "}\n",
    "println(isPalindrome2(List(1, 2, 3, 2, 1)))\n"
   ]
  },
  {
   "cell_type": "code",
   "execution_count": 89,
   "metadata": {},
   "outputs": [],
   "source": [
    "// P07 (**) Flatten a nested list structure.\n",
    "// Example:\n",
    "// scala> flatten(List(List(1, 1), 2, List(3, List(5, 8))))\n",
    "// res0: List[Any] = List(1, 1, 2, 3, 5, 8)\n",
    "\n",
    "//flatMap 사용해서 다시"
   ]
  },
  {
   "cell_type": "code",
   "execution_count": 100,
   "metadata": {},
   "outputs": [
    {
     "data": {
      "text/plain": [
       "compress: [A](xs: List[A])List[A]\r\n",
       "res55: List[Symbol] = List('a, 'b, 'c, 'a, 'd, 'e)\r\n"
      ]
     },
     "execution_count": 100,
     "metadata": {},
     "output_type": "execute_result"
    }
   ],
   "source": [
    "// P08 (**) Eliminate consecutive duplicates of list elements.\n",
    "// If a list contains repeated elements they should be replaced with a single copy of the element. The order of the elements should not be changed.\n",
    "// Example:\n",
    "\n",
    "// scala> compress(List('a, 'a, 'a, 'a, 'b, 'c, 'c, 'a, 'a, 'd, 'e, 'e, 'e, 'e))\n",
    "// res0: List[Symbol] = List('a, 'b, 'c, 'a, 'd, 'e)\n",
    "def compress[A](xs:List[A]):List[A] = {\n",
    "    xs.foldRight(List[A]())((x,xs) => if (xs.isEmpty || xs.head != x) x::xs else xs)\n",
    "}\n",
    "compress(List('a, 'a, 'a, 'a, 'b, 'c, 'c, 'a, 'a, 'd, 'e, 'e, 'e, 'e))"
   ]
  },
  {
   "cell_type": "code",
   "execution_count": 115,
   "metadata": {},
   "outputs": [
    {
     "ename": "<console>",
     "evalue": "37: error: not found: value ys\r",
     "output_type": "error",
     "traceback": [
      "<console>:37: error: not found: value ys\r",
      "           case (x, (ys(y::_)) :: rs) if x == y => (x::ys) :: rs\r",
      "                     ^\r",
      "<console>:37: error: not found: value ys\r",
      "           case (x, (ys(y::_)) :: rs) if x == y => (x::ys) :: rs\r",
      "                                                       ^\r",
      ""
     ]
    }
   ],
   "source": [
    "// P09 (**) Pack consecutive duplicates of list elements into sublists.\n",
    "// If a list contains repeated elements they should be placed in separate sublists.\n",
    "// Example:\n",
    "\n",
    "// scala> pack(List('a, 'a, 'a, 'a, 'b, 'c, 'c, 'a, 'a, 'd, 'e, 'e, 'e, 'e))\n",
    "// res0: List[List[Symbol]] = List(List('a, 'a, 'a, 'a), List('b), List('c, 'c), List('a, 'a), List('d), List('e, 'e, 'e, 'e))\n",
    "\n",
    "// 다시 꼬리재귀로 구현해보기\n",
    "// functional 은 이런식으로 표현하는데 어렵...\n",
    "// 추가로 모르는 표현 @(at) 은 @다음에 나온 object 그 자체를 표시하고 싶을때 저렇게 씀\n",
    "// https://stackoverflow.com/questions/20748858/pattern-matching-symbol\n",
    "def pack[A](xs: List[A]): List[List[A]] =\n",
    "  xs.foldRight(List[List[A]]()){\n",
    "    case (x, (ys@(y::_)) :: rs) if x == y => (x::ys) :: rs\n",
    "    case (x, ys) => List(x) :: ys\n",
    "  }"
   ]
  },
  {
   "cell_type": "markdown",
   "metadata": {},
   "source": [
    "New Function\n",
    "span\n",
    "\n",
    "List 함수로 조건에 맞는 첫번째 값을 기준으로 2개의 리스트로 분할\n",
    "ex)\n",
    "```scala\n",
    "val x = List(15, 10, 5, 8, 20, 12)\n",
    "scala> val y = x.span(_ < 20)\n",
    "y: (List[Int], List[Int]) = (List(15, 10, 5, 8), List(20, 12))\n",
    "```\n",
    "이걸 활요해서 P09 풀어보기"
   ]
  }
 ],
 "metadata": {
  "kernelspec": {
   "display_name": "spylon-kernel",
   "language": "scala",
   "name": "spylon-kernel"
  },
  "language_info": {
   "codemirror_mode": "text/x-scala",
   "file_extension": ".scala",
   "help_links": [
    {
     "text": "MetaKernel Magics",
     "url": "https://metakernel.readthedocs.io/en/latest/source/README.html"
    }
   ],
   "mimetype": "text/x-scala",
   "name": "scala",
   "pygments_lexer": "scala",
   "version": "0.4.1"
  }
 },
 "nbformat": 4,
 "nbformat_minor": 2
}
