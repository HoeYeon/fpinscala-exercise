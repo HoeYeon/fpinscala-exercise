{
 "cells": [
  {
   "cell_type": "markdown",
   "metadata": {},
   "source": [
    "## Practicing for functional programming\n",
    "\n",
    "http://aperiodic.net/phil/scala/s-99/\n"
   ]
  },
  {
   "cell_type": "code",
   "execution_count": 25,
   "metadata": {},
   "outputs": [
    {
     "data": {
      "text/plain": [
       "last: [A](xs: List[A])A\r\n",
       "res18: Int = 4\r\n"
      ]
     },
     "execution_count": 25,
     "metadata": {},
     "output_type": "execute_result"
    }
   ],
   "source": [
    "/* \n",
    "P01 Find the last element of a list. Example:\n",
    "scala> last(List(1, 1, 2, 3, 5, 8))\n",
    "res0: Int = 8\n",
    "*/\n",
    "\n",
    "@annotation.tailrec\n",
    "def last[A](xs:List[A]): A = xs match {\n",
    "    case h :: Nil => h\n",
    "    case h :: t => last(t)\n",
    "    case _ => throw new NoSuchElementException\n",
    "}\n",
    "\n",
    "last(List(1,2,3,4))"
   ]
  },
  {
   "cell_type": "code",
   "execution_count": 29,
   "metadata": {},
   "outputs": [
    {
     "data": {
      "text/plain": [
       "penultimate: [A](xs: List[A])A\r\n",
       "res19: Int = 5\r\n"
      ]
     },
     "execution_count": 29,
     "metadata": {},
     "output_type": "execute_result"
    }
   ],
   "source": [
    "/*\n",
    "P02 (*) Find the last but one element of a list.\n",
    "Example:\n",
    "scala> penultimate(List(1, 1, 2, 3, 5, 8))\n",
    "res0: Int = 5\n",
    "--> 2번째를 찾아라?\n",
    "*/\n",
    "@annotation.tailrec\n",
    "def penultimate[A](xs:List[A]): A = xs match {\n",
    "    case h1 :: h2 :: Nil => h1\n",
    "    case h :: t => penultimate(t)\n",
    "    case _ => throw new NoSuchElementException\n",
    "}\n",
    "penultimate(List(1, 1, 2, 3, 5, 8))"
   ]
  },
  {
   "cell_type": "code",
   "execution_count": 36,
   "metadata": {},
   "outputs": [
    {
     "data": {
      "text/plain": [
       "nth: [A](idx: Int, xs: List[A])A\r\n",
       "res23: Int = 8\r\n"
      ]
     },
     "execution_count": 36,
     "metadata": {},
     "output_type": "execute_result"
    }
   ],
   "source": [
    "// P03 (*) Find the Kth element of a list.\n",
    "// By convention, the first element in the list is element 0.\n",
    "// Example:\n",
    "\n",
    "// scala> nth(2, List(1, 1, 2, 3, 5, 8))\n",
    "// res0: Int = 2\n",
    "\n",
    "def nth[A](idx:Int, xs:List[A]): A = xs match {\n",
    "    case h :: t => if(idx == 0) h else nth(idx-1,t)\n",
    "    case _ => throw new Exception\n",
    "}\n",
    "nth(5, List(1, 1, 2, 3, 5, 8))"
   ]
  },
  {
   "cell_type": "code",
   "execution_count": 64,
   "metadata": {},
   "outputs": [
    {
     "name": "stdout",
     "output_type": "stream",
     "text": [
      "6\n",
      "6\n"
     ]
    },
    {
     "data": {
      "text/plain": [
       "length: [A](xs: List[A])Int\r\n"
      ]
     },
     "execution_count": 64,
     "metadata": {},
     "output_type": "execute_result"
    }
   ],
   "source": [
    "// P04 (*) Find the number of elements of a list.\n",
    "// Example:\n",
    "// scala> length(List(1, 1, 2, 3, 5, 8))\n",
    "// res0: Int = 6\n",
    "\n",
    "def length[A](xs:List[A]):Int = {\n",
    "    val l = 0\n",
    "    def go(l:Int,xs:List[A]):Int = xs match {\n",
    "        case Nil => l\n",
    "        case h :: t => go(l+1,t)\n",
    "    }\n",
    "    go(l,xs)\n",
    "}\n",
    "println(length(List(1, 1, 2, 3, 5, 8)))\n",
    "\n",
    "//with statndard library\n",
    "println(List(1, 1, 2, 3, 5, 8).size)"
   ]
  },
  {
   "cell_type": "code",
   "execution_count": 90,
   "metadata": {},
   "outputs": [
    {
     "name": "stdout",
     "output_type": "stream",
     "text": [
      "List(8, 5, 3, 2, 1, 1)\n",
      "List(8, 5, 3, 2, 1, 1)\n"
     ]
    },
    {
     "data": {
      "text/plain": [
       "reverse: [A](xs: List[A])List[A]\r\n"
      ]
     },
     "execution_count": 90,
     "metadata": {},
     "output_type": "execute_result"
    }
   ],
   "source": [
    "// P05 (*) Reverse a list.\n",
    "// Example:\n",
    "// scala> reverse(List(1, 1, 2, 3, 5, 8))\n",
    "// res0: List[Int] = List(8, 5, 3, 2, 1, 1)\n",
    "\n",
    "def reverse[A](xs:List[A]):List[A] = {\n",
    "    xs.foldLeft(List[A]())((xs,x)=>x::xs)\n",
    "}\n",
    "println(reverse(List(1, 1, 2, 3, 5, 8)))\n",
    "\n",
    "// with standard library\n",
    "println(List(1, 1, 2, 3, 5, 8).reverse)"
   ]
  },
  {
   "cell_type": "code",
   "execution_count": 68,
   "metadata": {},
   "outputs": [
    {
     "name": "stdout",
     "output_type": "stream",
     "text": [
      "true\n",
      "true\n"
     ]
    },
    {
     "data": {
      "text/plain": [
       "isPalindrome: [A](xs: List[A])Boolean\r\n",
       "isPalindrome2: [A](xs: List[A])Boolean\r\n"
      ]
     },
     "execution_count": 68,
     "metadata": {},
     "output_type": "execute_result"
    }
   ],
   "source": [
    "// P06 (*) Find out whether a list is a palindrome.\n",
    "// Example:\n",
    "// scala> isPalindrome(List(1, 2, 3, 2, 1))\n",
    "// res0: Boolean = true\n",
    "\n",
    "def isPalindrome[A](xs:List[A]):Boolean = {\n",
    "    reverse(xs) == xs\n",
    "}\n",
    "println(isPalindrome(List(1, 2, 3, 2, 1)))\n",
    "\n",
    "def isPalindrome2[A](xs:List[A]):Boolean = {\n",
    "    reverse(xs).zip(xs).forall{case (x,y) => x == y}\n",
    "}\n",
    "println(isPalindrome2(List(1, 2, 3, 2, 1)))\n"
   ]
  },
  {
   "cell_type": "code",
   "execution_count": 134,
   "metadata": {},
   "outputs": [
    {
     "data": {
      "text/plain": [
       "flatten: (xs: List[Any])List[Any]\r\n",
       "res73: List[Any] = List(1, 1, 2, 3, 5, 8)\r\n"
      ]
     },
     "execution_count": 134,
     "metadata": {},
     "output_type": "execute_result"
    }
   ],
   "source": [
    "// P07 (**) Flatten a nested list structure.\n",
    "// Example:\n",
    "// scala> flatten(List(List(1, 1), 2, List(3, List(5, 8))))\n",
    "// res0: List[Any] = List(1, 1, 2, 3, 5, 8)\n",
    "\n",
    "//flatMap 사용해서 다시\n",
    "\n",
    "def flatten(xs: List[Any]):List[Any] = {\n",
    "    xs.flatMap({ x => x match{\n",
    "        case p: List[_] => flatten(p)\n",
    "        case x => List(x)\n",
    "    }})\n",
    "}\n",
    "flatten(List(List(1, 1), 2, List(3, List(5, 8))))"
   ]
  },
  {
   "cell_type": "code",
   "execution_count": 100,
   "metadata": {},
   "outputs": [
    {
     "data": {
      "text/plain": [
       "compress: [A](xs: List[A])List[A]\r\n",
       "res55: List[Symbol] = List('a, 'b, 'c, 'a, 'd, 'e)\r\n"
      ]
     },
     "execution_count": 100,
     "metadata": {},
     "output_type": "execute_result"
    }
   ],
   "source": [
    "// P08 (**) Eliminate consecutive duplicates of list elements.\n",
    "// If a list contains repeated elements they should be replaced with a single copy of the element. The order of the elements should not be changed.\n",
    "// Example:\n",
    "\n",
    "// scala> compress(List('a, 'a, 'a, 'a, 'b, 'c, 'c, 'a, 'a, 'd, 'e, 'e, 'e, 'e))\n",
    "// res0: List[Symbol] = List('a, 'b, 'c, 'a, 'd, 'e)\n",
    "def compress[A](xs:List[A]):List[A] = {\n",
    "    xs.foldRight(List[A]())((x,xs) => if (xs.isEmpty || xs.head != x) x::xs else xs)\n",
    "}\n",
    "compress(List('a, 'a, 'a, 'a, 'b, 'c, 'c, 'a, 'a, 'd, 'e, 'e, 'e, 'e))"
   ]
  },
  {
   "cell_type": "code",
   "execution_count": 137,
   "metadata": {},
   "outputs": [
    {
     "data": {
      "text/plain": [
       "pack: [A](xs: List[A])List[List[A]]\r\n",
       "pack2: [A](xs: List[A])List[List[A]]\r\n"
      ]
     },
     "execution_count": 137,
     "metadata": {},
     "output_type": "execute_result"
    }
   ],
   "source": [
    "// P09 (**) Pack consecutive duplicates of list elements into sublists.\n",
    "// If a list contains repeated elements they should be placed in separate sublists.\n",
    "// Example:\n",
    "\n",
    "// scala> pack(List('a, 'a, 'a, 'a, 'b, 'c, 'c, 'a, 'a, 'd, 'e, 'e, 'e, 'e))\n",
    "// res0: List[List[Symbol]] = List(List('a, 'a, 'a, 'a), List('b), List('c, 'c), List('a, 'a), List('d), List('e, 'e, 'e, 'e))\n",
    "\n",
    "// 다시 꼬리재귀로 구현해보기\n",
    "// functional 은 이런식으로 표현하는데 어렵...\n",
    "// 추가로 모르는 표현 @(at) 은 @다음에 나온 object 그 자체를 표시하고 싶을때 저렇게 씀\n",
    "// https://stackoverflow.com/questions/20748858/pattern-matching-symbol\n",
    "def pack[A](xs: List[A]): List[List[A]] =\n",
    "  xs.foldRight(List[List[A]]()){\n",
    "    case (x, (ys@(y::_)) :: rs) if x == y => (x::ys) :: rs\n",
    "    case (x, ys) => List(x) :: ys\n",
    "  }\n",
    "\n",
    "def pack2[A](xs: List[A]): List[List[A]] = xs match {\n",
    "  case Nil => Nil\n",
    "  case h :: t => {\n",
    "      val (hs, ts) = xs.span(_ == h)\n",
    "      hs::pack2(ts)\n",
    "  }\n",
    "}\n",
    "\n"
   ]
  },
  {
   "cell_type": "code",
   "execution_count": 174,
   "metadata": {},
   "outputs": [
    {
     "data": {
      "text/plain": [
       "encode: [A](xs: List[A])List[(Int, Any)]\r\n",
       "res94: List[(Int, Any)] = List((4,'a), (1,'b), (2,'c), (2,'a), (1,'d), (4,'e))\r\n"
      ]
     },
     "execution_count": 174,
     "metadata": {},
     "output_type": "execute_result"
    }
   ],
   "source": [
    "// P10 (*) Run-length encoding of a list.\n",
    "// Use the result of problem P09 to implement the so-called run-length encoding data compression method. Consecutive duplicates of elements are encoded as tuples (N, E) where N is the number of duplicates of the element E.\n",
    "// Example:\n",
    "\n",
    "// scala> encode(List('a, 'a, 'a, 'a, 'b, 'c, 'c, 'a, 'a, 'd, 'e, 'e, 'e, 'e))\n",
    "// res0: List[(Int, Symbol)] = List((4,'a), (1,'b), (2,'c), (2,'a), (1,'d), (4,'e))\n",
    "def encode[A](xs:List[A]):List[(Int,Any)] = {\n",
    "    pack2(xs).map(ss => (ss.size,ss.head))\n",
    "}\n",
    "\n",
    "encode(List('a, 'a, 'a, 'a, 'b, 'c, 'c, 'a, 'a, 'd, 'e, 'e, 'e, 'e))"
   ]
  },
  {
   "cell_type": "code",
   "execution_count": 173,
   "metadata": {},
   "outputs": [
    {
     "data": {
      "text/plain": [
       "encodeModified: [A](xs: List[A])List[Any]\r\n",
       "res93: List[Any] = List((4,'a), 'b, (2,'c), (2,'a), 'd, (4,'e))\r\n"
      ]
     },
     "execution_count": 173,
     "metadata": {},
     "output_type": "execute_result"
    }
   ],
   "source": [
    "// P11 (*) Modified run-length encoding.\n",
    "// Modify the result of problem P10 in such a way that if an element has no duplicates it is simply copied into the result list. Only elements with duplicates are transferred as (N, E) terms.\n",
    "// Example:\n",
    "\n",
    "// scala> encodeModified(List('a, 'a, 'a, 'a, 'b, 'c, 'c, 'a, 'a, 'd, 'e, 'e, 'e, 'e))\n",
    "// res0: List[Any] = List((4,'a), 'b, (2,'c), (2,'a), 'd, (4,'e))\n",
    "\n",
    "def encodeModified[A](xs:List[A]):List[Any] = {\n",
    "    pack2(xs).map(ss => if(ss.size > 1)(ss.size,ss.head) else ss.head)\n",
    "}\n",
    "encodeModified(List('a, 'a, 'a, 'a, 'b, 'c, 'c, 'a, 'a, 'd, 'e, 'e, 'e, 'e))"
   ]
  },
  {
   "cell_type": "code",
   "execution_count": 171,
   "metadata": {
    "scrolled": true
   },
   "outputs": [
    {
     "name": "stdout",
     "output_type": "stream",
     "text": [
      "List('a, 'a, 'a, 'a, 'b, 'c, 'c, 'a, 'a, 'd, 'e, 'e, 'e, 'e)\n",
      "List('a, 'a, 'a, 'a, 'b, 'c, 'c, 'a, 'a, 'd, 'e, 'e, 'e, 'e)\n"
     ]
    },
    {
     "data": {
      "text/plain": [
       "decode: (xs: List[(Int, Any)])List[Any]\r\n",
       "decode2: (xs: List[(Int, Any)])List[Any]\r\n"
      ]
     },
     "execution_count": 171,
     "metadata": {},
     "output_type": "execute_result"
    }
   ],
   "source": [
    "// P12 (**) Decode a run-length encoded list.\n",
    "// Given a run-length code list generated as specified in problem P10, construct its uncompressed version.\n",
    "// Example:\n",
    "\n",
    "// scala> decode(List((4, 'a), (1, 'b), (2, 'c), (2, 'a), (1, 'd), (4, 'e)))\n",
    "// res0: List[Symbol] = List('a, 'a, 'a, 'a, 'b, 'c, 'c, 'a, 'a, 'd, 'e, 'e, 'e, 'e)\n",
    "\n",
    "def decode(xs: List[(Int,Any)]):List[Any] = {\n",
    "    def add(cnt:Int,x:Any,rs:List[Any]):List[Any] = {\n",
    "        if(cnt > 0) x::add(cnt-1,x,rs) else List[Any]()\n",
    "    }\n",
    "    xs.flatMap((x) => add(x._1,x._2,List()))\n",
    "\n",
    "}\n",
    "println(decode(List((4, 'a), (1, 'b), (2, 'c), (2, 'a), (1, 'd), (4, 'e))))\n",
    "\n",
    "//내장 함수 이용\n",
    "def decode2(xs: List[(Int,Any)]):List[Any] = {\n",
    "    xs.flatMap((x) => List.fill(x._1)(x._2))\n",
    "\n",
    "}\n",
    "\n",
    "println(decode2(List((4, 'a), (1, 'b), (2, 'c), (2, 'a), (1, 'd), (4, 'e))))\n"
   ]
  },
  {
   "cell_type": "code",
   "execution_count": 193,
   "metadata": {},
   "outputs": [
    {
     "data": {
      "text/plain": [
       "encodeDirect: [A](xs: List[A])List[(Int, Any)]\r\n",
       "res112: List[(Int, Any)] = List((4,'a), (1,'b), (2,'c), (2,'a), (1,'d), (4,'e))\r\n"
      ]
     },
     "execution_count": 193,
     "metadata": {},
     "output_type": "execute_result"
    }
   ],
   "source": [
    "// P13 (**) Run-length encoding of a list (direct solution).\n",
    "// Implement the so-called run-length encoding data compression method directly. I.e. don't use other methods you've written (like P09's pack); do all the work directly.\n",
    "// Example:\n",
    "\n",
    "// scala> encodeDirect(List('a, 'a, 'a, 'a, 'b, 'c, 'c, 'a, 'a, 'd, 'e, 'e, 'e, 'e))\n",
    "// res0: List[(Int, Symbol)] = List((4,'a), (1,'b), (2,'c), (2,'a), (1,'d), (4,'e))\n",
    "\n",
    "def encodeDirect[A](xs: List[A]): List[(Int,Any)] = xs match {\n",
    "  case Nil => Nil\n",
    "  case h :: t => {\n",
    "      val (hs, ts) = xs.span(_ == h)\n",
    "      (hs.size,hs.head)::encodeDirect(ts)\n",
    "  }\n",
    "}\n",
    "encodeDirect(List('a, 'a, 'a, 'a, 'b, 'c, 'c, 'a, 'a, 'd, 'e, 'e, 'e, 'e))"
   ]
  },
  {
   "cell_type": "code",
   "execution_count": 196,
   "metadata": {},
   "outputs": [
    {
     "data": {
      "text/plain": [
       "duplicate: [A](xs: List[A])List[A]\r\n",
       "res113: List[Symbol] = List('a, 'a, 'b, 'b, 'c, 'c, 'c, 'c, 'd, 'd)\r\n"
      ]
     },
     "execution_count": 196,
     "metadata": {},
     "output_type": "execute_result"
    }
   ],
   "source": [
    "// P14 (*) Duplicate the elements of a list.\n",
    "// Example:\n",
    "// scala> duplicate(List('a, 'b, 'c, 'c, 'd))\n",
    "// res0: List[Symbol] = List('a, 'a, 'b, 'b, 'c, 'c, 'c, 'c, 'd, 'd)\n",
    "def duplicate[A](xs:List[A]): List[A] = {\n",
    "    xs.flatMap(x => List.fill(2)(x))\n",
    "}\n",
    "duplicate(List('a, 'b, 'c, 'c, 'd))"
   ]
  },
  {
   "cell_type": "code",
   "execution_count": 197,
   "metadata": {},
   "outputs": [
    {
     "data": {
      "text/plain": [
       "duplicateN: [A](n: Int, xs: List[A])List[A]\r\n",
       "res114: List[Symbol] = List('a, 'a, 'a, 'b, 'b, 'b, 'c, 'c, 'c, 'c, 'c, 'c, 'd, 'd, 'd)\r\n"
      ]
     },
     "execution_count": 197,
     "metadata": {},
     "output_type": "execute_result"
    }
   ],
   "source": [
    "// (**) Duplicate the elements of a list a given number of times.\n",
    "// Example:\n",
    "// scala> duplicateN(3, List('a, 'b, 'c, 'c, 'd))\n",
    "// res0: List[Symbol] = List('a, 'a, 'a, 'b, 'b, 'b, 'c, 'c, 'c, 'c, 'c, 'c, 'd, 'd, 'd)\n",
    "def duplicateN[A](n:Int,xs:List[A]): List[A] = {\n",
    "    xs.flatMap(x => List.fill(n)(x))\n",
    "}\n",
    "duplicateN(3, List('a, 'b, 'c, 'c, 'd))"
   ]
  },
  {
   "cell_type": "code",
   "execution_count": 210,
   "metadata": {},
   "outputs": [
    {
     "data": {
      "text/plain": [
       "drop: [A](n: Int, xs: List[A])List[A]\r\n",
       "res126: List[Symbol] = List('a, 'b, 'c, 'd, 'e, 'f, 'g, 'h, 'i, 'j, 'k)\r\n"
      ]
     },
     "execution_count": 210,
     "metadata": {},
     "output_type": "execute_result"
    }
   ],
   "source": [
    "// P16 (**) Drop every Nth element from a list.\n",
    "// Example:\n",
    "// scala> drop(3, List('a, 'b, 'c, 'd, 'e, 'f, 'g, 'h, 'i, 'j, 'k))\n",
    "// res0: List[Symbol] = List('a, 'b, 'd, 'e, 'g, 'h, 'j, 'k)\n",
    "\n",
    "// TODO: Tail recursive로 구현해보기\n",
    "def drop[A](n:Int,xs:List[A]):List[A] = xs match {\n",
    "    case Nil => Nil\n",
    "    case h :: t => if(n == 1) t else h::drop(n-1,t)\n",
    "    case _ => xs\n",
    "}\n",
    "drop(20, List('a, 'b, 'c, 'd, 'e, 'f, 'g, 'h, 'i, 'j, 'k))"
   ]
  },
  {
   "cell_type": "code",
   "execution_count": 220,
   "metadata": {},
   "outputs": [
    {
     "name": "stdout",
     "output_type": "stream",
     "text": [
      "(List('a, 'b, 'c),List('d, 'e, 'f, 'g, 'h, 'i, 'j, 'k))\n",
      "(List('a, 'b, 'c),List('d, 'e, 'f, 'g, 'h, 'i, 'j, 'k))\n"
     ]
    },
    {
     "data": {
      "text/plain": [
       "split: [A](n: Int, xs: List[A])(List[A], List[A])\r\n"
      ]
     },
     "execution_count": 220,
     "metadata": {},
     "output_type": "execute_result"
    }
   ],
   "source": [
    "// P17 (*) Split a list into two parts.\n",
    "// The length of the first part is given. Use a Tuple for your result.\n",
    "// Example:\n",
    "\n",
    "// scala> split(3, List('a, 'b, 'c, 'd, 'e, 'f, 'g, 'h, 'i, 'j, 'k))\n",
    "// res0: (List[Symbol], List[Symbol]) = (List('a, 'b, 'c),List('d, 'e, 'f, 'g, 'h, 'i, 'j, 'k))\n",
    "\n",
    "\n",
    "\n",
    "// TODO tail recursive하게 해보기\n",
    "def split[A](n:Int, xs:List[A]):(List[A],List[A]) = (n,xs) match {\n",
    "    case (_,Nil) => (Nil,Nil)\n",
    "    case (0,h::t) => (Nil,h::t)\n",
    "    case (n,h::t) => {\n",
    "            val (l,r) = split(n-1,t)\n",
    "            (h::l,r)\n",
    "    }\n",
    "}\n",
    "println(split(3, List('a, 'b, 'c, 'd, 'e, 'f, 'g, 'h, 'i, 'j, 'k)))\n",
    "println(List('a, 'b, 'c, 'd, 'e, 'f, 'g, 'h, 'i, 'j, 'k).splitAt(3))"
   ]
  },
  {
   "cell_type": "code",
   "execution_count": 19,
   "metadata": {},
   "outputs": [
    {
     "data": {
      "text/plain": [
       "slice: [A](i: Int, k: Int, xs: List[A])List[A]\r\n",
       "res14: List[Symbol] = List('d, 'e, 'f, 'g)\r\n"
      ]
     },
     "execution_count": 19,
     "metadata": {},
     "output_type": "execute_result"
    }
   ],
   "source": [
    "// P18 (**) Extract a slice from a list.\n",
    "// Given two indices, I and K, the slice is the list containing the elements from and including the Ith element up to but not including the Kth element of the original list. Start counting the elements with 0.\n",
    "// Example:\n",
    "\n",
    "// scala> slice(3, 7, List('a, 'b, 'c, 'd, 'e, 'f, 'g, 'h, 'i, 'j, 'k))\n",
    "// res0: List[Symbol] = List('d, 'e, 'f, 'g)\n",
    "\n",
    "def slice[A](i:Int,k:Int,xs:List[A]):List[A] = (i,k,xs) match {\n",
    "    case (_,0,h::t) => Nil\n",
    "    case (0,k,h::t) => h::slice(0,k-1,t)\n",
    "    case (i,k,h::t) => slice(i-1,k-1,t)\n",
    "    case (_,_,Nil) => Nil\n",
    "\n",
    "}\n",
    "slice(3, 7, List('a, 'b, 'c, 'd, 'e, 'f, 'g, 'h, 'i, 'j, 'k))\n",
    "\n"
   ]
  },
  {
   "cell_type": "code",
   "execution_count": 15,
   "metadata": {},
   "outputs": [
    {
     "ename": "<console>",
     "evalue": "29: error: pattern type is incompatible with expected type;\r",
     "output_type": "error",
     "traceback": [
      "<console>:29: error: pattern type is incompatible with expected type;\r",
      " found   : scala.collection.immutable.Nil.type\r",
      " required: Vector[Int]\r",
      "           case Nil => println(\"Hello\")\r",
      "                ^\r",
      ""
     ]
    }
   ],
   "source": [
    "val a = Vector()\n",
    "a == Nil\n",
    "def test(a:Vector[Int]):Unit = a match {\n",
    "    case Nil => println(\"Hello\")\n",
    "}"
   ]
  },
  {
   "cell_type": "code",
   "execution_count": null,
   "metadata": {},
   "outputs": [],
   "source": []
  }
 ],
 "metadata": {
  "kernelspec": {
   "display_name": "spylon-kernel",
   "language": "scala",
   "name": "spylon-kernel"
  },
  "language_info": {
   "codemirror_mode": "text/x-scala",
   "file_extension": ".scala",
   "help_links": [
    {
     "text": "MetaKernel Magics",
     "url": "https://metakernel.readthedocs.io/en/latest/source/README.html"
    }
   ],
   "mimetype": "text/x-scala",
   "name": "scala",
   "pygments_lexer": "scala",
   "version": "0.4.1"
  }
 },
 "nbformat": 4,
 "nbformat_minor": 2
}
