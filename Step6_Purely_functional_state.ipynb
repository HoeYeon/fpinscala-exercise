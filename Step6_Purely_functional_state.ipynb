{
 "cells": [
  {
   "cell_type": "code",
   "execution_count": 1,
   "metadata": {},
   "outputs": [
    {
     "data": {
      "text/plain": [
       "Intitializing Scala interpreter ..."
      ]
     },
     "metadata": {},
     "output_type": "display_data"
    },
    {
     "data": {
      "text/plain": [
       "Spark Web UI available at http://DESKTOP-5DEVR1B:4040\n",
       "SparkContext available as 'sc' (version = 3.1.2, master = local[*], app id = local-1644072258610)\n",
       "SparkSession available as 'spark'\n"
      ]
     },
     "metadata": {},
     "output_type": "display_data"
    },
    {
     "data": {
      "text/plain": [
       "defined trait RNG\r\n"
      ]
     },
     "execution_count": 1,
     "metadata": {},
     "output_type": "execute_result"
    }
   ],
   "source": [
    "trait RNG {\n",
    "    def nextInt: (Int, RNG)\n",
    "}"
   ]
  },
  {
   "cell_type": "code",
   "execution_count": 2,
   "metadata": {},
   "outputs": [
    {
     "data": {
      "text/plain": [
       "defined class SimpleRNG\r\n"
      ]
     },
     "execution_count": 2,
     "metadata": {},
     "output_type": "execute_result"
    }
   ],
   "source": [
    "case class SimpleRNG(seed: Long) extends RNG {\n",
    "  def nextInt: (Int, RNG) = {\n",
    "    val newSeed = (seed * 0x5DEECE66DL + 0xBL) & 0xFFFFFFFFFFFFL\n",
    "    val nextRNG = SimpleRNG(newSeed)\n",
    "    val n = (newSeed >>> 16).toInt\n",
    "    (n, nextRNG)\n",
    "  }\n",
    "}"
   ]
  },
  {
   "cell_type": "code",
   "execution_count": 3,
   "metadata": {},
   "outputs": [
    {
     "data": {
      "text/plain": [
       "rng: SimpleRNG = SimpleRNG(42)\r\n"
      ]
     },
     "execution_count": 3,
     "metadata": {},
     "output_type": "execute_result"
    }
   ],
   "source": [
    "val rng = SimpleRNG(42)"
   ]
  },
  {
   "cell_type": "code",
   "execution_count": 4,
   "metadata": {},
   "outputs": [
    {
     "data": {
      "text/plain": [
       "n1: Int = 16159453\r\n",
       "rng2: RNG = SimpleRNG(1059025964525)\r\n"
      ]
     },
     "execution_count": 4,
     "metadata": {},
     "output_type": "execute_result"
    }
   ],
   "source": [
    "val (n1, rng2) = rng.nextInt"
   ]
  },
  {
   "cell_type": "markdown",
   "metadata": {},
   "source": [
    "## 6-1"
   ]
  },
  {
   "cell_type": "code",
   "execution_count": 5,
   "metadata": {},
   "outputs": [
    {
     "data": {
      "text/plain": [
       "nonNegativeInt: (rng: RNG)(Int, RNG)\r\n"
      ]
     },
     "execution_count": 5,
     "metadata": {},
     "output_type": "execute_result"
    }
   ],
   "source": [
    "def nonNegativeInt(rng: RNG):(Int,RNG) = {\n",
    "    val(n1,rng2) = rng.nextInt\n",
    "    (if(n1 <0) -(n1+1) else n1,rng2)\n",
    "}"
   ]
  },
  {
   "cell_type": "code",
   "execution_count": 6,
   "metadata": {},
   "outputs": [
    {
     "data": {
      "text/plain": [
       "res0: (Int, RNG) = (1538995,SimpleRNG(100859615679))\r\n"
      ]
     },
     "execution_count": 6,
     "metadata": {},
     "output_type": "execute_result"
    }
   ],
   "source": [
    "nonNegativeInt(SimpleRNG(4))"
   ]
  },
  {
   "cell_type": "markdown",
   "metadata": {},
   "source": [
    "## 6-2"
   ]
  },
  {
   "cell_type": "code",
   "execution_count": 7,
   "metadata": {},
   "outputs": [
    {
     "data": {
      "text/plain": [
       "res1: Int = 16159453\r\n"
      ]
     },
     "execution_count": 7,
     "metadata": {},
     "output_type": "execute_result"
    }
   ],
   "source": [
    "if(n1 < 0) -(n1+1) else n1"
   ]
  },
  {
   "cell_type": "code",
   "execution_count": 8,
   "metadata": {},
   "outputs": [
    {
     "data": {
      "text/plain": [
       "double: (rng: RNG)(Double, RNG)\r\n"
      ]
     },
     "execution_count": 8,
     "metadata": {},
     "output_type": "execute_result"
    }
   ],
   "source": [
    "def double(rng:RNG): (Double, RNG) = {\n",
    "    val (n1, rng2) = nonNegativeInt(rng)\n",
    "    (n1.toDouble/Int.MaxValue.toDouble,rng2)\n",
    "}"
   ]
  },
  {
   "cell_type": "code",
   "execution_count": 9,
   "metadata": {},
   "outputs": [
    {
     "data": {
      "text/plain": [
       "res2: (Double, RNG) = (0.0017916266814766576,SimpleRNG(252149039181))\r\n"
      ]
     },
     "execution_count": 9,
     "metadata": {},
     "output_type": "execute_result"
    }
   ],
   "source": [
    "double(SimpleRNG(10))"
   ]
  },
  {
   "cell_type": "markdown",
   "metadata": {},
   "source": [
    "## 6-3"
   ]
  },
  {
   "cell_type": "code",
   "execution_count": 10,
   "metadata": {},
   "outputs": [
    {
     "data": {
      "text/plain": [
       "intDouble: (rng: RNG)((Int, Double), RNG)\r\n"
      ]
     },
     "execution_count": 10,
     "metadata": {},
     "output_type": "execute_result"
    }
   ],
   "source": [
    "def intDouble(rng:RNG): ((Int,Double), RNG) = {\n",
    "    val (n2, rng2) = nonNegativeInt(rng)\n",
    "    val (n3, rng3) = double(rng2)\n",
    "    ((n2,n3), rng3)\n",
    "}"
   ]
  },
  {
   "cell_type": "code",
   "execution_count": 11,
   "metadata": {},
   "outputs": [
    {
     "data": {
      "text/plain": [
       "doubleInt: (rng: RNG)((Double, Int), RNG)\r\n"
      ]
     },
     "execution_count": 11,
     "metadata": {},
     "output_type": "execute_result"
    }
   ],
   "source": [
    "def doubleInt(rng:RNG): ((Double,Int), RNG) = {\n",
    "    val (n2, rng2) = double(rng)\n",
    "    val (n3, rng3) = nonNegativeInt(rng2)\n",
    "    ((n2,n3), rng3)\n",
    "}"
   ]
  },
  {
   "cell_type": "code",
   "execution_count": 12,
   "metadata": {},
   "outputs": [
    {
     "data": {
      "text/plain": [
       "double3: (rng: RNG)((Double, Double, Double), RNG)\r\n"
      ]
     },
     "execution_count": 12,
     "metadata": {},
     "output_type": "execute_result"
    }
   ],
   "source": [
    "def double3(rng:RNG): ((Double,Double,Double),RNG) = {\n",
    "    val (n2, rng2) = double(rng)\n",
    "    val (n3, rng3) = double(rng2)\n",
    "    val (n4, rng4) = double(rng3)\n",
    "    ((n2,n3,n4),rng4)\n",
    "}"
   ]
  },
  {
   "cell_type": "markdown",
   "metadata": {},
   "source": [
    "## 6.4"
   ]
  },
  {
   "cell_type": "code",
   "execution_count": 54,
   "metadata": {},
   "outputs": [
    {
     "data": {
      "text/plain": [
       "ints: (count: Int)(rng: RNG)(List[Int], RNG)\r\n"
      ]
     },
     "execution_count": 54,
     "metadata": {},
     "output_type": "execute_result"
    }
   ],
   "source": [
    "def ints(count: Int)(rng:RNG): (List[Int],RNG) = {\n",
    "    if (count <= 0)\n",
    "      (List(), rng)\n",
    "    else{\n",
    "      val (x, r1)  = nonNegativeInt(rng)\n",
    "      val (xs, r2) = ints(count - 1)(r1)\n",
    "      (x :: xs, r2)\n",
    "    }\n",
    "}"
   ]
  },
  {
   "cell_type": "code",
   "execution_count": 55,
   "metadata": {},
   "outputs": [
    {
     "data": {
      "text/plain": [
       "res9: (List[Int], RNG) = (List(3847489, 1334288366, 1486862010, 711662464, 1453296529),SimpleRNG(186231735346465))\r\n"
      ]
     },
     "execution_count": 55,
     "metadata": {},
     "output_type": "execute_result"
    }
   ],
   "source": [
    "ints(5)(SimpleRNG(10))"
   ]
  },
  {
   "cell_type": "code",
   "execution_count": 13,
   "metadata": {
    "scrolled": true
   },
   "outputs": [
    {
     "data": {
      "text/plain": [
       "defined type alias Rand\r\n"
      ]
     },
     "execution_count": 13,
     "metadata": {},
     "output_type": "execute_result"
    }
   ],
   "source": [
    "type Rand[+A] = RNG => (A,RNG)"
   ]
  },
  {
   "cell_type": "code",
   "execution_count": 14,
   "metadata": {},
   "outputs": [
    {
     "data": {
      "text/plain": [
       "int: Rand[Int] = $Lambda$2222/0x00000008017dd840@4da82f3f\r\n",
       "unit: [A](a: A)Rand[A]\r\n",
       "map: [A, B](s: Rand[A])(f: A => B)Rand[B]\r\n"
      ]
     },
     "execution_count": 14,
     "metadata": {},
     "output_type": "execute_result"
    }
   ],
   "source": [
    "val int: Rand[Int] = _.nextInt\n",
    "def unit[A](a: A): Rand[A] = rng => (a, rng)\n",
    "def map[A, B](s: Rand[A])(f: A => B): Rand[B] = {\n",
    "    rng => {\n",
    "      val (a, rng2) = s(rng)\n",
    "      (f(a), rng2)\n",
    "    }\n",
    "  }"
   ]
  },
  {
   "cell_type": "markdown",
   "metadata": {},
   "source": [
    "map 구현할때 rng가 뜬금 어디서 나왔다 싶었는데 <br>\n",
    "크게 보면\n",
    "rng => (f(a),rng2)) 라는 걸 알 수 있고 <br>\n",
    "이는 Rand[B] 형태 (RNG => (B,RNG)) 라는걸 알 수 있다."
   ]
  },
  {
   "cell_type": "code",
   "execution_count": 15,
   "metadata": {},
   "outputs": [
    {
     "data": {
      "text/plain": [
       "nonNegativeEven: Rand[Int]\r\n"
      ]
     },
     "execution_count": 15,
     "metadata": {},
     "output_type": "execute_result"
    }
   ],
   "source": [
    "def nonNegativeEven:Rand[Int] = {\n",
    "    map(nonNegativeInt)(i => i - i % 2)\n",
    "}"
   ]
  },
  {
   "cell_type": "markdown",
   "metadata": {},
   "source": [
    "원래는 def foo(param): returnType 을 넣어주는게 일반적인 형태인데\n",
    "Rand 자체를 type으로 등록해서 RNG => (A,RNG)로 표현이 되므로 위와 같이 쓰면\n",
    "nonNegativeEven(rng:RNG):(A,RNG) 와 같은 뜻임"
   ]
  },
  {
   "cell_type": "code",
   "execution_count": 16,
   "metadata": {},
   "outputs": [
    {
     "data": {
      "text/plain": [
       "res3: (Int, RNG) = (3847488,SimpleRNG(252149039181))\r\n"
      ]
     },
     "execution_count": 16,
     "metadata": {},
     "output_type": "execute_result"
    }
   ],
   "source": [
    "nonNegativeEven(SimpleRNG(10))"
   ]
  },
  {
   "cell_type": "code",
   "execution_count": 17,
   "metadata": {},
   "outputs": [
    {
     "data": {
      "text/plain": [
       "double: Rand[Double]\r\n"
      ]
     },
     "execution_count": 17,
     "metadata": {},
     "output_type": "execute_result"
    }
   ],
   "source": [
    "def double:Rand[Double] = {\n",
    "    map(nonNegativeInt)(i => i/Int.MaxValue.toDouble)\n",
    "}"
   ]
  },
  {
   "cell_type": "code",
   "execution_count": 18,
   "metadata": {},
   "outputs": [
    {
     "data": {
      "text/plain": [
       "res4: (Double, RNG) = (0.0017916266814766576,SimpleRNG(252149039181))\r\n"
      ]
     },
     "execution_count": 18,
     "metadata": {},
     "output_type": "execute_result"
    }
   ],
   "source": [
    "double(SimpleRNG(10))"
   ]
  },
  {
   "cell_type": "markdown",
   "metadata": {},
   "source": [
    "## 6.6"
   ]
  },
  {
   "cell_type": "code",
   "execution_count": 19,
   "metadata": {},
   "outputs": [
    {
     "data": {
      "text/plain": [
       "map2: [A, B, C](ra: Rand[A], rb: Rand[B])(f: (A, B) => C)Rand[C]\r\n"
      ]
     },
     "execution_count": 19,
     "metadata": {},
     "output_type": "execute_result"
    }
   ],
   "source": [
    "def map2[A,B,C](ra: Rand[A], rb: Rand[B])(f: (A,B) => C) : Rand[C] = {\n",
    "    rng1 => {\n",
    "        val (a,rng2) = ra(rng1)\n",
    "        val (b,rng3) = rb(rng2)\n",
    "        (f(a,b),rng3)\n",
    "    }\n",
    "}"
   ]
  },
  {
   "cell_type": "code",
   "execution_count": 43,
   "metadata": {},
   "outputs": [
    {
     "data": {
      "text/plain": [
       "both: [A, B](ra: Rand[A], rb: Rand[B])Rand[(A, B)]\r\n"
      ]
     },
     "execution_count": 43,
     "metadata": {},
     "output_type": "execute_result"
    }
   ],
   "source": [
    "def both[A,B](ra: Rand[A],rb: Rand[B]): Rand[(A,B)] = map2(ra,rb)((_,_))"
   ]
  },
  {
   "cell_type": "code",
   "execution_count": 44,
   "metadata": {},
   "outputs": [
    {
     "data": {
      "text/plain": [
       "randIntDouble: Rand[(Int, Double)] = $Lambda$2352/0x0000000801853840@2701daa8\r\n"
      ]
     },
     "execution_count": 44,
     "metadata": {},
     "output_type": "execute_result"
    }
   ],
   "source": [
    "val randIntDouble: Rand[(Int,Double)] = {\n",
    "    both(nonNegativeInt,double)\n",
    "}"
   ]
  },
  {
   "cell_type": "code",
   "execution_count": 45,
   "metadata": {},
   "outputs": [
    {
     "data": {
      "text/plain": [
       "res8: ((Int, Double), RNG) = ((3847489,0.6213264384406276),SimpleRNG(87443922374356))\r\n"
      ]
     },
     "execution_count": 45,
     "metadata": {},
     "output_type": "execute_result"
    }
   ],
   "source": [
    "randIntDouble(SimpleRNG(10))"
   ]
  },
  {
   "cell_type": "code",
   "execution_count": 65,
   "metadata": {},
   "outputs": [
    {
     "data": {
      "text/plain": [
       "x: List[Int] = List(1, 2, 3)\r\n"
      ]
     },
     "execution_count": 65,
     "metadata": {},
     "output_type": "execute_result"
    }
   ],
   "source": [
    "val x = List(1,2,3)"
   ]
  },
  {
   "cell_type": "code",
   "execution_count": 74,
   "metadata": {},
   "outputs": [
    {
     "data": {
      "text/plain": [
       "res25: List[Int] = List(2, 2, 2)\r\n"
      ]
     },
     "execution_count": 74,
     "metadata": {},
     "output_type": "execute_result"
    }
   ],
   "source": [
    "List.fill(x.size)(x.map(_*2).head)"
   ]
  },
  {
   "cell_type": "markdown",
   "metadata": {},
   "source": [
    "## 6.7\n",
    "\n",
    "Hard 어렵..\n",
    "Hint => List도 결국 2개씩 나눠서 처리한다는 걸 생각하자\n",
    "=> 1부터 10이면 f(1,f(2,f(3,4))) ..."
   ]
  },
  {
   "cell_type": "code",
   "execution_count": null,
   "metadata": {},
   "outputs": [],
   "source": []
  },
  {
   "cell_type": "code",
   "execution_count": null,
   "metadata": {},
   "outputs": [],
   "source": []
  }
 ],
 "metadata": {
  "kernelspec": {
   "display_name": "spylon-kernel",
   "language": "scala",
   "name": "spylon-kernel"
  },
  "language_info": {
   "codemirror_mode": "text/x-scala",
   "file_extension": ".scala",
   "help_links": [
    {
     "text": "MetaKernel Magics",
     "url": "https://metakernel.readthedocs.io/en/latest/source/README.html"
    }
   ],
   "mimetype": "text/x-scala",
   "name": "scala",
   "pygments_lexer": "scala",
   "version": "0.4.1"
  }
 },
 "nbformat": 4,
 "nbformat_minor": 2
}
