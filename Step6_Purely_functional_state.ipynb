{
 "cells": [
  {
   "cell_type": "code",
   "execution_count": 1,
   "metadata": {},
   "outputs": [
    {
     "data": {
      "text/plain": [
       "Intitializing Scala interpreter ..."
      ]
     },
     "metadata": {},
     "output_type": "display_data"
    },
    {
     "data": {
      "text/plain": [
       "Spark Web UI available at http://DESKTOP-5DEVR1B.mshome.net:4042\n",
       "SparkContext available as 'sc' (version = 3.1.2, master = local[*], app id = local-1643875463028)\n",
       "SparkSession available as 'spark'\n"
      ]
     },
     "metadata": {},
     "output_type": "display_data"
    },
    {
     "data": {
      "text/plain": [
       "defined trait RNG\r\n"
      ]
     },
     "execution_count": 1,
     "metadata": {},
     "output_type": "execute_result"
    }
   ],
   "source": [
    "trait RNG {\n",
    "    def nextInt: (Int, RNG)\n",
    "}"
   ]
  },
  {
   "cell_type": "code",
   "execution_count": 2,
   "metadata": {},
   "outputs": [
    {
     "data": {
      "text/plain": [
       "defined class SimpleRNG\r\n"
      ]
     },
     "execution_count": 2,
     "metadata": {},
     "output_type": "execute_result"
    }
   ],
   "source": [
    "case class SimpleRNG(seed: Long) extends RNG {\n",
    "  def nextInt: (Int, RNG) = {\n",
    "    val newSeed = (seed * 0x5DEECE66DL + 0xBL) & 0xFFFFFFFFFFFFL\n",
    "    val nextRNG = SimpleRNG(newSeed)\n",
    "    val n = (newSeed >>> 16).toInt\n",
    "    (n, nextRNG)\n",
    "  }\n",
    "}"
   ]
  },
  {
   "cell_type": "code",
   "execution_count": 4,
   "metadata": {},
   "outputs": [
    {
     "data": {
      "text/plain": [
       "rng: SimpleRNG = SimpleRNG(42)\r\n"
      ]
     },
     "execution_count": 4,
     "metadata": {},
     "output_type": "execute_result"
    }
   ],
   "source": [
    "val rng = SimpleRNG(42)"
   ]
  },
  {
   "cell_type": "code",
   "execution_count": 7,
   "metadata": {},
   "outputs": [
    {
     "data": {
      "text/plain": [
       "n1: Int = 16159453\r\n",
       "rng2: RNG = SimpleRNG(1059025964525)\r\n"
      ]
     },
     "execution_count": 7,
     "metadata": {},
     "output_type": "execute_result"
    }
   ],
   "source": [
    "val (n1, rng2) = rng.nextInt"
   ]
  },
  {
   "cell_type": "markdown",
   "metadata": {},
   "source": [
    "## 6-1"
   ]
  },
  {
   "cell_type": "code",
   "execution_count": 64,
   "metadata": {},
   "outputs": [
    {
     "data": {
      "text/plain": [
       "nonNegativeInt: (rng: RNG)(Int, RNG)\r\n"
      ]
     },
     "execution_count": 64,
     "metadata": {},
     "output_type": "execute_result"
    }
   ],
   "source": [
    "def nonNegativeInt(rng: RNG):(Int,RNG) = {\n",
    "    val(n1,rng2) = rng.nextInt\n",
    "    (if(n1 <0) -(n1+1) else n1,rng2)\n",
    "}"
   ]
  },
  {
   "cell_type": "code",
   "execution_count": 65,
   "metadata": {},
   "outputs": [
    {
     "data": {
      "text/plain": [
       "res42: (Int, RNG) = (1538995,SimpleRNG(100859615679))\r\n"
      ]
     },
     "execution_count": 65,
     "metadata": {},
     "output_type": "execute_result"
    }
   ],
   "source": [
    "nonNegativeInt(SimpleRNG(4))"
   ]
  },
  {
   "cell_type": "markdown",
   "metadata": {},
   "source": [
    "## 6-2"
   ]
  },
  {
   "cell_type": "code",
   "execution_count": 66,
   "metadata": {},
   "outputs": [
    {
     "data": {
      "text/plain": [
       "res43: Int = 16159453\r\n"
      ]
     },
     "execution_count": 66,
     "metadata": {},
     "output_type": "execute_result"
    }
   ],
   "source": [
    "if(n1 < 0) -(n1+1) else n1"
   ]
  },
  {
   "cell_type": "code",
   "execution_count": 67,
   "metadata": {},
   "outputs": [
    {
     "data": {
      "text/plain": [
       "double: (rng: RNG)(Double, RNG)\r\n"
      ]
     },
     "execution_count": 67,
     "metadata": {},
     "output_type": "execute_result"
    }
   ],
   "source": [
    "def double(rng:RNG): (Double, RNG) = {\n",
    "    val (n1, rng2) = nonNegativeInt(rng)\n",
    "    (n1.toDouble/Int.MaxValue.toDouble,rng2)\n",
    "}"
   ]
  },
  {
   "cell_type": "code",
   "execution_count": 71,
   "metadata": {},
   "outputs": [
    {
     "data": {
      "text/plain": [
       "res47: (Double, RNG) = (0.0017916266814766576,SimpleRNG(252149039181))\r\n"
      ]
     },
     "execution_count": 71,
     "metadata": {},
     "output_type": "execute_result"
    }
   ],
   "source": [
    "double(SimpleRNG(10))"
   ]
  },
  {
   "cell_type": "markdown",
   "metadata": {},
   "source": [
    "## 6-3"
   ]
  },
  {
   "cell_type": "code",
   "execution_count": 72,
   "metadata": {},
   "outputs": [
    {
     "data": {
      "text/plain": [
       "intDouble: (rng: RNG)((Int, Double), RNG)\r\n"
      ]
     },
     "execution_count": 72,
     "metadata": {},
     "output_type": "execute_result"
    }
   ],
   "source": [
    "def intDouble(rng:RNG): ((Int,Double), RNG) = {\n",
    "    val (n2, rng2) = nonNegativeInt(rng)\n",
    "    val (n3, rng3) = double(rng2)\n",
    "    ((n2,n3), rng3)\n",
    "}"
   ]
  },
  {
   "cell_type": "code",
   "execution_count": 73,
   "metadata": {},
   "outputs": [
    {
     "data": {
      "text/plain": [
       "doubleInt: (rng: RNG)((Double, Int), RNG)\r\n"
      ]
     },
     "execution_count": 73,
     "metadata": {},
     "output_type": "execute_result"
    }
   ],
   "source": [
    "def doubleInt(rng:RNG): ((Double,Int), RNG) = {\n",
    "    val (n2, rng2) = double(rng)\n",
    "    val (n3, rng3) = nonNegativeInt(rng2)\n",
    "    ((n2,n3), rng3)\n",
    "}"
   ]
  },
  {
   "cell_type": "code",
   "execution_count": 74,
   "metadata": {},
   "outputs": [
    {
     "data": {
      "text/plain": [
       "double3: (rng: RNG)((Double, Double, Double), RNG)\r\n"
      ]
     },
     "execution_count": 74,
     "metadata": {},
     "output_type": "execute_result"
    }
   ],
   "source": [
    "def double3(rng:RNG): ((Double,Double,Double),RNG) = {\n",
    "    val (n2, rng2) = double(rng)\n",
    "    val (n3, rng3) = double(rng2)\n",
    "    val (n4, rng4) = double(rng3)\n",
    "    ((n2,n3,n4),rng4)\n",
    "}"
   ]
  },
  {
   "cell_type": "code",
   "execution_count": 75,
   "metadata": {},
   "outputs": [
    {
     "data": {
      "text/plain": [
       "defined type alias Rand\r\n"
      ]
     },
     "execution_count": 75,
     "metadata": {},
     "output_type": "execute_result"
    }
   ],
   "source": [
    "type Rand[+A] = RNG => (A,RNG)"
   ]
  },
  {
   "cell_type": "code",
   "execution_count": 77,
   "metadata": {},
   "outputs": [
    {
     "data": {
      "text/plain": [
       "int: Rand[Int] = $Lambda$2383/0x00000008018c9040@3c3d70bb\r\n",
       "unit: [A](a: A)Rand[A]\r\n",
       "map: [A, B](s: Rand[A])(f: A => B)Rand[B]\r\n"
      ]
     },
     "execution_count": 77,
     "metadata": {},
     "output_type": "execute_result"
    }
   ],
   "source": [
    "val int: Rand[Int] = _.nextInt\n",
    "def unit[A](a: A): Rand[A] = rng => (a, rng)\n",
    "def map[A, B](s: Rand[A])(f: A => B): Rand[B] = {\n",
    "    rng => {\n",
    "      val (a, rng2) = s(rng)\n",
    "      (f(a), rng2)\n",
    "    }\n",
    "  }"
   ]
  },
  {
   "cell_type": "code",
   "execution_count": 79,
   "metadata": {},
   "outputs": [
    {
     "data": {
      "text/plain": [
       "nonNegativeEven: Rand[Int]\r\n"
      ]
     },
     "execution_count": 79,
     "metadata": {},
     "output_type": "execute_result"
    }
   ],
   "source": [
    "def nonNegativeEven:Rand[Int] = {\n",
    "    map(nonNegativeInt)(i => i - i % 2)\n",
    "}"
   ]
  },
  {
   "cell_type": "markdown",
   "metadata": {},
   "source": [
    "원래는 def foo(param): returnType 을 넣어주는게 일반적인 형태인데\n",
    "Rand 자체를 type으로 등록해서 RNG => (A,RNG)로 표현이 되므로 위와 같이 쓰면\n",
    "nonNegativeEven(rng:RNG):(A,RNG) 와 같은 뜻임"
   ]
  },
  {
   "cell_type": "code",
   "execution_count": 81,
   "metadata": {},
   "outputs": [
    {
     "data": {
      "text/plain": [
       "res49: (Int, RNG) = (3847488,SimpleRNG(252149039181))\r\n"
      ]
     },
     "execution_count": 81,
     "metadata": {},
     "output_type": "execute_result"
    }
   ],
   "source": [
    "nonNegativeEven(SimpleRNG(10))"
   ]
  },
  {
   "cell_type": "code",
   "execution_count": 82,
   "metadata": {},
   "outputs": [
    {
     "data": {
      "text/plain": [
       "double: Rand[Double]\r\n"
      ]
     },
     "execution_count": 82,
     "metadata": {},
     "output_type": "execute_result"
    }
   ],
   "source": [
    "def double:Rand[Double] = {\n",
    "    map(nonNegativeInt)(i => i/Int.MaxValue.toDouble)\n",
    "}"
   ]
  },
  {
   "cell_type": "code",
   "execution_count": null,
   "metadata": {},
   "outputs": [],
   "source": []
  }
 ],
 "metadata": {
  "kernelspec": {
   "display_name": "spylon-kernel",
   "language": "scala",
   "name": "spylon-kernel"
  },
  "language_info": {
   "codemirror_mode": "text/x-scala",
   "file_extension": ".scala",
   "help_links": [
    {
     "text": "MetaKernel Magics",
     "url": "https://metakernel.readthedocs.io/en/latest/source/README.html"
    }
   ],
   "mimetype": "text/x-scala",
   "name": "scala",
   "pygments_lexer": "scala",
   "version": "0.4.1"
  }
 },
 "nbformat": 4,
 "nbformat_minor": 2
}
