{
 "cells": [
  {
   "cell_type": "markdown",
   "metadata": {},
   "source": [
    "# 목차\n",
    "\n",
    "* [3-1](#cell1)\n",
    "* [3-2](#cell2)\n",
    "* [3-3](#cell3)\n",
    "* [3-4](#cell4)\n",
    "* [3-5](#cell5)\n",
    "* [3-6](#cell6)\n",
    "* [3-7](#cell7)\n",
    "* [3-8](#cell8)\n",
    "* [3-9](#cell9)\n",
    "* [3-10](#cell10)\n",
    "* [3-11](#cell11)\n",
    "* [3-12](#cell12)\n",
    "* [3-13](#cell13)\n",
    "* [3-14](#cell14)\n",
    "* [3-15](#cell15)\n",
    "* [3-16](#cell16)\n",
    "* [3-17](#cell17)\n",
    "* [3-18](#cell18)\n",
    "* [3-19](#cell19)\n",
    "* [3-20](#cell20)\n",
    "* [3-21](#cell21)\n",
    "* [3-22](#cell22)\n",
    "* [다시] [3-23](#cell23)\n",
    "* [다시] [HasSubsequence] [3-24](#cell24)\n"
   ]
  },
  {
   "cell_type": "markdown",
   "metadata": {},
   "source": [
    "# 3-1\n"
   ]
  },
  {
   "cell_type": "code",
   "execution_count": 1,
   "metadata": {},
   "outputs": [
    {
     "data": {
      "text/plain": [
       "Intitializing Scala interpreter ..."
      ]
     },
     "metadata": {},
     "output_type": "display_data"
    },
    {
     "data": {
      "text/plain": [
       "Spark Web UI available at http://DESKTOP-5DEVR1B:4040\n",
       "SparkContext available as 'sc' (version = 3.1.2, master = local[*], app id = local-1642425124449)\n",
       "SparkSession available as 'spark'\n"
      ]
     },
     "metadata": {},
     "output_type": "display_data"
    },
    {
     "data": {
      "text/plain": [
       "defined trait List\r\n",
       "defined object Nil\r\n",
       "defined class Cons\r\n",
       "defined object List\r\n"
      ]
     },
     "execution_count": 1,
     "metadata": {},
     "output_type": "execute_result"
    }
   ],
   "source": [
    "sealed trait List[+A]\n",
    "case object Nil extends List[Nothing]\n",
    "case class Cons[+A](head:A, tail: List[A]) extends List[A]\n",
    "\n",
    "\n",
    "object List{ \n",
    "  def sum(ints: List[Int]): Int = ints match {\n",
    "    case Nil => 0\n",
    "    case Cons(x,xs) => x + sum(xs) \n",
    "}\n",
    "  def product(ds: List[Double]): Double = ds match{\n",
    "    case Nil => 1.0\n",
    "    case Cons(0.0, _) => 0.0\n",
    "    case Cons(x,xs) => x * product(xs)\n",
    "  }\n",
    "\n",
    "  def apply[A](as: A*): List[A] = \n",
    "    if (as.isEmpty) Nil\n",
    "    else Cons(as.head, apply(as.tail: _*))\n",
    "  \n",
    "}"
   ]
  },
  {
   "cell_type": "code",
   "execution_count": 3,
   "metadata": {},
   "outputs": [
    {
     "data": {
      "text/plain": [
       "x: Int = 3\r\n"
      ]
     },
     "execution_count": 3,
     "metadata": {},
     "output_type": "execute_result"
    }
   ],
   "source": [
    "val x= List(1,2,3,4,5) match {\n",
    "    case Cons(x,Cons(2,Cons(4,_))) => x\n",
    "    case Nil => 42\n",
    "    case Cons(x,Cons(y,Cons(3,Cons(4,_)))) => x + y\n",
    "    case Cons(h,t) => h + List.sum(t)\n",
    "    case _ => 10\n",
    "}"
   ]
  },
  {
   "cell_type": "markdown",
   "metadata": {},
   "source": [
    "# 3-2\n",
    "<a id=\"cell2\"></a>\n"
   ]
  },
  {
   "cell_type": "code",
   "execution_count": 3,
   "metadata": {},
   "outputs": [
    {
     "data": {
      "text/plain": [
       "tail: [A](xs: List[A])List[A]\r\n"
      ]
     },
     "execution_count": 3,
     "metadata": {},
     "output_type": "execute_result"
    }
   ],
   "source": [
    "def tail[A](xs: List[A]):List[A] = xs match {\n",
    "    case Nil =>Nil\n",
    "    case Cons(t,ts) => ts\n",
    "}"
   ]
  },
  {
   "cell_type": "code",
   "execution_count": 9,
   "metadata": {},
   "outputs": [
    {
     "data": {
      "text/plain": [
       "x: List[Int] = Cons(1,Cons(2,Cons(3,Cons(4,Cons(5,Cons(6,Nil))))))\r\n",
       "res2: List[Int] = Cons(2,Cons(3,Cons(4,Cons(5,Cons(6,Nil)))))\r\n"
      ]
     },
     "execution_count": 9,
     "metadata": {},
     "output_type": "execute_result"
    }
   ],
   "source": [
    "val x = List(1,2,3,4,5,6)\n",
    "tail(x)"
   ]
  },
  {
   "cell_type": "markdown",
   "metadata": {},
   "source": [
    "## 3-3\n",
    "<a id=\"cell3\"></a>\n"
   ]
  },
  {
   "cell_type": "code",
   "execution_count": 6,
   "metadata": {},
   "outputs": [
    {
     "data": {
      "text/plain": [
       "setHead: [A](xs: List[A], elem: A)List[A]\r\n"
      ]
     },
     "execution_count": 6,
     "metadata": {},
     "output_type": "execute_result"
    }
   ],
   "source": [
    "def setHead[A](xs:List[A], elem:A):List[A] = xs match {\n",
    "    case Nil => Nil\n",
    "    case Cons(t,ts) => Cons(elem,ts)\n",
    "}"
   ]
  },
  {
   "cell_type": "code",
   "execution_count": 8,
   "metadata": {},
   "outputs": [
    {
     "data": {
      "text/plain": [
       "x: List[Int] = Cons(1,Cons(2,Cons(3,Cons(4,Nil))))\r\n",
       "res1: List[Int] = Cons(6,Cons(2,Cons(3,Cons(4,Nil))))\r\n"
      ]
     },
     "execution_count": 8,
     "metadata": {},
     "output_type": "execute_result"
    }
   ],
   "source": [
    "val x = List(1,2,3,4)\n",
    "setHead(x,6)"
   ]
  },
  {
   "cell_type": "markdown",
   "metadata": {},
   "source": [
    "# 3-4\n",
    "<a id=\"cell4\"></a>\n"
   ]
  },
  {
   "cell_type": "code",
   "execution_count": 17,
   "metadata": {},
   "outputs": [
    {
     "data": {
      "text/plain": [
       "drop: [A](l: List[A], n: Int)List[A]\r\n"
      ]
     },
     "execution_count": 17,
     "metadata": {},
     "output_type": "execute_result"
    }
   ],
   "source": [
    "@annotation.tailrec\n",
    "def drop[A](l:List[A], n:Int):List[A] = l match{\n",
    "    case Nil => Nil\n",
    "    case Cons(x,xs) => if(n == 0) l else drop(xs,n-1)\n",
    "}"
   ]
  },
  {
   "cell_type": "code",
   "execution_count": 18,
   "metadata": {},
   "outputs": [
    {
     "data": {
      "text/plain": [
       "x: List[Int] = Cons(5,Cons(4,Cons(3,Cons(3,Cons(2,Cons(1,Nil))))))\r\n",
       "res4: List[Int] = Cons(3,Cons(2,Cons(1,Nil)))\r\n"
      ]
     },
     "execution_count": 18,
     "metadata": {},
     "output_type": "execute_result"
    }
   ],
   "source": [
    "val x = List(5,4,3,3,2,1)\n",
    "drop(x,3)"
   ]
  },
  {
   "cell_type": "markdown",
   "metadata": {},
   "source": [
    "# 3-5\n",
    "<a id=\"cell5\"></a>\n"
   ]
  },
  {
   "cell_type": "code",
   "execution_count": 6,
   "metadata": {},
   "outputs": [
    {
     "data": {
      "text/plain": [
       "dropWhile: [A](l: List[A], f: A => Boolean)List[A]\r\n"
      ]
     },
     "execution_count": 6,
     "metadata": {},
     "output_type": "execute_result"
    }
   ],
   "source": [
    "@annotation.tailrec\n",
    "def dropWhile[A](l: List[A], f: A => Boolean): List[A] = l match {\n",
    "    case Nil => Nil\n",
    "    case Cons(x,xs) => if (f(x)) dropWhile(xs,f) else Cons(x,xs)\n",
    "}"
   ]
  },
  {
   "cell_type": "code",
   "execution_count": 9,
   "metadata": {
    "scrolled": true
   },
   "outputs": [
    {
     "data": {
      "text/plain": [
       "x: List[Int] = Cons(1,Cons(2,Cons(3,Cons(4,Cons(5,Cons(6,Cons(6,Cons(7,Nil))))))))\r\n",
       "res4: List[Int] = Cons(2,Cons(3,Cons(4,Cons(5,Cons(6,Cons(6,Cons(7,Nil)))))))\r\n"
      ]
     },
     "execution_count": 9,
     "metadata": {},
     "output_type": "execute_result"
    }
   ],
   "source": [
    "val x = List(1,2,3,4,5,6,6,7)\n",
    "dropWhile(x, (a:Int) => a%2 == 1)"
   ]
  },
  {
   "cell_type": "markdown",
   "metadata": {},
   "source": [
    "### 3-5 형식추론 개선\n",
    "\n",
    "파라미터를 두 그룹으로 분리하면 첫번째 인수를 받았을 때 두번째는 반드시 같은 타입을 받아야 하므로 형식 생략이 가능"
   ]
  },
  {
   "cell_type": "code",
   "execution_count": 11,
   "metadata": {},
   "outputs": [
    {
     "data": {
      "text/plain": [
       "dropWhile: [A](l: List[A])(f: A => Boolean)List[A]\r\n"
      ]
     },
     "execution_count": 11,
     "metadata": {},
     "output_type": "execute_result"
    }
   ],
   "source": [
    "@annotation.tailrec\n",
    "def dropWhile[A](l: List[A])(f: A => Boolean): List[A] = l match {\n",
    "    case Nil => Nil\n",
    "    case Cons(x,xs) => if (f(x)) dropWhile(xs)(f) else Cons(x,xs)\n",
    "}"
   ]
  },
  {
   "cell_type": "code",
   "execution_count": 12,
   "metadata": {},
   "outputs": [
    {
     "data": {
      "text/plain": [
       "x: List[Int] = Cons(1,Cons(2,Cons(3,Cons(4,Cons(5,Cons(6,Cons(6,Cons(7,Nil))))))))\r\n",
       "res5: List[Int] = Cons(2,Cons(3,Cons(4,Cons(5,Cons(6,Cons(6,Cons(7,Nil)))))))\r\n"
      ]
     },
     "execution_count": 12,
     "metadata": {},
     "output_type": "execute_result"
    }
   ],
   "source": [
    "val x = List(1,2,3,4,5,6,6,7)\n",
    "dropWhile(x)(a => a%2 == 1)"
   ]
  },
  {
   "cell_type": "markdown",
   "metadata": {},
   "source": [
    "# 3-6\n",
    "<a id=\"cell6\"></a>\n"
   ]
  },
  {
   "cell_type": "code",
   "execution_count": 26,
   "metadata": {},
   "outputs": [
    {
     "data": {
      "text/plain": [
       "init: [A](l: List[A])List[A]\r\n"
      ]
     },
     "execution_count": 26,
     "metadata": {},
     "output_type": "execute_result"
    }
   ],
   "source": [
    "@annotation.tailrec\n",
    "def init[A](l: List[A]): List[A] = l match {\n",
    "    case Nil => Nil\n",
    "    case Cons(x,xs) => if(xs == Nil) Cons(x,xs) else init(xs)\n",
    "}"
   ]
  },
  {
   "cell_type": "code",
   "execution_count": 28,
   "metadata": {},
   "outputs": [
    {
     "data": {
      "text/plain": [
       "x: List[Int] = Cons(1,Cons(2,Cons(3,Cons(4,Cons(512351253,Nil)))))\r\n",
       "res10: List[Int] = Cons(512351253,Nil)\r\n"
      ]
     },
     "execution_count": 28,
     "metadata": {},
     "output_type": "execute_result"
    }
   ],
   "source": [
    "val x = List(1,2,3,4,512351253)\n",
    "init(x)"
   ]
  },
  {
   "cell_type": "markdown",
   "metadata": {},
   "source": [
    "# 3-7\n",
    "sum에 제네릭 타입으로 사용은 못하나? 의미가 없나\n",
    "<a id=\"cell7\"></a>\n"
   ]
  },
  {
   "cell_type": "code",
   "execution_count": 37,
   "metadata": {},
   "outputs": [
    {
     "data": {
      "text/plain": [
       "foldRight: [A, B](l: List[A], z: B)(f: (A, B) => B)B\r\n",
       "sum: (l: List[Int])Int\r\n",
       "product: (l: List[Double])Double\r\n"
      ]
     },
     "execution_count": 37,
     "metadata": {},
     "output_type": "execute_result"
    }
   ],
   "source": [
    "def foldRight[A,B](l:List[A],z:B)(f:(A,B)=>B) : B = l match {\n",
    "    case Nil => z\n",
    "    case Cons(x,xs) => f(x,foldRight(xs,z)(f))\n",
    "}\n",
    "\n",
    "def sum(l:List[Int]) = {\n",
    "    foldRight(l,0)(_+_)\n",
    "}\n",
    "\n",
    "def product(l:List[Double]) = {\n",
    "    foldRight(l,1.0)(_ * _)\n",
    "}"
   ]
  },
  {
   "cell_type": "code",
   "execution_count": 27,
   "metadata": {},
   "outputs": [
    {
     "data": {
      "text/plain": [
       "res8: Double = 0.0\r\n"
      ]
     },
     "execution_count": 27,
     "metadata": {},
     "output_type": "execute_result"
    }
   ],
   "source": [
    "product(List(1,0,3,4))\n",
    "// 중간에 안멈추고 끝까지 감 --> 재귀로 값을 돌려줘야하기 때문에 끝까지 갔다가 돌아와야함"
   ]
  },
  {
   "cell_type": "code",
   "execution_count": 28,
   "metadata": {},
   "outputs": [
    {
     "data": {
      "text/plain": [
       "res9: List[Int] = Cons(1,Cons(2,Cons(3,Nil)))\r\n"
      ]
     },
     "execution_count": 28,
     "metadata": {},
     "output_type": "execute_result"
    }
   ],
   "source": [
    "foldRight(List(1,2,3), Nil:List[Int])(Cons(_,_))"
   ]
  },
  {
   "cell_type": "code",
   "execution_count": 29,
   "metadata": {},
   "outputs": [
    {
     "data": {
      "text/plain": [
       "res10: List[Int] = Cons(1,Cons(2,Cons(3,Nil)))\r\n"
      ]
     },
     "execution_count": 29,
     "metadata": {},
     "output_type": "execute_result"
    }
   ],
   "source": [
    "List(1,2,3)"
   ]
  },
  {
   "cell_type": "markdown",
   "metadata": {},
   "source": [
    "# 3-9\n",
    "<a id=\"cell9\"></a>\n"
   ]
  },
  {
   "cell_type": "code",
   "execution_count": 36,
   "metadata": {},
   "outputs": [
    {
     "data": {
      "text/plain": [
       "length: [A](as: List[A])Int\r\n"
      ]
     },
     "execution_count": 36,
     "metadata": {},
     "output_type": "execute_result"
    }
   ],
   "source": [
    "def length[A](as:List[A]):Int = {\n",
    "    foldRight(as,0)((_,b) => b+1)\n",
    "}"
   ]
  },
  {
   "cell_type": "code",
   "execution_count": 37,
   "metadata": {},
   "outputs": [
    {
     "data": {
      "text/plain": [
       "x: List[Int] = Cons(1,Cons(2,Cons(3,Cons(4,Cons(6,Nil)))))\r\n",
       "res12: Int = 5\r\n"
      ]
     },
     "execution_count": 37,
     "metadata": {},
     "output_type": "execute_result"
    }
   ],
   "source": [
    "val x = List(1,2,3,4,6)\n",
    "length(x)"
   ]
  },
  {
   "cell_type": "markdown",
   "metadata": {},
   "source": [
    "# 3-10\n",
    "<a id=\"cell10\"></a>\n",
    "\n",
    "\n",
    "1 + foldRight                <br>\n",
    "1 + (2 + foldRight)          <br>\n",
    "1 + (2 + (3 + foldRight))    <br>\n",
    "\n",
    "\n",
    "foldLeft(() , 1)     <br>\n",
    "foldLeft((), 1+2)    <br>\n",
    "foldLeft((),1+2+3)   <br>\n",
    "\n",
    "\n",
    "foldLeft는 더해나가는거고 foldRight은 한번 쭉 풀었다가 다시 더하는 방식\n",
    "--> foldLeft가 tailrec\n"
   ]
  },
  {
   "cell_type": "code",
   "execution_count": 43,
   "metadata": {},
   "outputs": [
    {
     "data": {
      "text/plain": [
       "foldLeft: [A, B](as: List[A], defaultVal: B)(f: (B, A) => B)B\r\n"
      ]
     },
     "execution_count": 43,
     "metadata": {},
     "output_type": "execute_result"
    }
   ],
   "source": [
    "@annotation.tailrec\n",
    "def foldLeft[A,B](as:List[A],defaultVal:B)(f:(B,A) => B):B = as match {\n",
    "    case Nil => defaultVal\n",
    "    case Cons(x,xs) => foldLeft(xs,f(defaultVal,x))(f)\n",
    "}"
   ]
  },
  {
   "cell_type": "code",
   "execution_count": 10,
   "metadata": {},
   "outputs": [
    {
     "name": "stdout",
     "output_type": "stream",
     "text": [
      "15\n",
      "120.0\n"
     ]
    },
    {
     "data": {
      "text/plain": [
       "sum: (l: List[Int])Int\r\n",
       "product: (l: List[Double])Double\r\n"
      ]
     },
     "execution_count": 10,
     "metadata": {},
     "output_type": "execute_result"
    }
   ],
   "source": [
    "def sum(l:List[Int]) = {\n",
    "    foldLeft(l,0)(_+_)\n",
    "}\n",
    "\n",
    "def product(l:List[Double]) = {\n",
    "    foldLeft(l,1.0)(_*_)\n",
    "}\n",
    "println(sum(List(1,2,3,4,5)))\n",
    "println(product(List(1,2,3,4,5)))"
   ]
  },
  {
   "cell_type": "markdown",
   "metadata": {},
   "source": [
    "# 3.12\n",
    "<a id=\"cell12\"></a>\n"
   ]
  },
  {
   "cell_type": "code",
   "execution_count": 31,
   "metadata": {},
   "outputs": [
    {
     "data": {
      "text/plain": [
       "x: List[Int] = Cons(1,Cons(2,Cons(3,Cons(4,Nil))))\r\n"
      ]
     },
     "execution_count": 31,
     "metadata": {},
     "output_type": "execute_result"
    }
   ],
   "source": [
    "val x= List(1,2,3,4)"
   ]
  },
  {
   "cell_type": "code",
   "execution_count": 32,
   "metadata": {},
   "outputs": [
    {
     "data": {
      "text/plain": [
       "reverse: (l: List[Int])List[Int]\r\n"
      ]
     },
     "execution_count": 32,
     "metadata": {},
     "output_type": "execute_result"
    }
   ],
   "source": [
    "def reverse(l:List[Int]) = {\n",
    "    foldLeft(l,Nil:List[Int])((b:List[Int],a:Int) => Cons(a,b))\n",
    "}"
   ]
  },
  {
   "cell_type": "code",
   "execution_count": 33,
   "metadata": {},
   "outputs": [
    {
     "data": {
      "text/plain": [
       "res9: List[Int] = Cons(4,Cons(3,Cons(2,Cons(1,Nil))))\r\n"
      ]
     },
     "execution_count": 33,
     "metadata": {},
     "output_type": "execute_result"
    }
   ],
   "source": [
    "reverse(x)"
   ]
  },
  {
   "cell_type": "markdown",
   "metadata": {},
   "source": [
    "# 3.13\n",
    "<a id=\"cell13\"></a>\n"
   ]
  },
  {
   "cell_type": "code",
   "execution_count": 2,
   "metadata": {},
   "outputs": [
    {
     "data": {
      "text/plain": [
       "foldRight: [A, B](l: List[A], z: B)(f: (A, B) => B)B\r\n",
       "foldLeft: [A, B](as: List[A], defaultVal: B)(f: (B, A) => B)B\r\n"
      ]
     },
     "execution_count": 2,
     "metadata": {},
     "output_type": "execute_result"
    }
   ],
   "source": [
    "def foldRight[A,B](l:List[A],z:B)(f:(A,B)=>B) : B = l match {\n",
    "    case Nil => z\n",
    "    case Cons(x,xs) => f(x,foldRight(xs,z)(f))\n",
    "}\n",
    "\n",
    "\n",
    "@annotation.tailrec\n",
    "def foldLeft[A,B](as:List[A],defaultVal:B)(f:(B,A) => B):B = as match {\n",
    "    case Nil => defaultVal\n",
    "    case Cons(x,xs) => foldLeft(xs,f(defaultVal,x))(f)\n",
    "}\n"
   ]
  },
  {
   "cell_type": "code",
   "execution_count": 9,
   "metadata": {},
   "outputs": [
    {
     "data": {
      "text/plain": [
       "foldLeftViaFoldRight: [A, B](l: List[A], z: B)(f: (B, A) => B)B\r\n"
      ]
     },
     "execution_count": 9,
     "metadata": {},
     "output_type": "execute_result"
    }
   ],
   "source": [
    "def foldLeftViaFoldRight[A,B](l: List[A], z: B)(f: (B,A) => B): B = \n",
    "  foldRight(l, (b:B) => b)((a,g) => b => g(f(b,a)))(z)\n"
   ]
  },
  {
   "cell_type": "markdown",
   "metadata": {},
   "source": [
    "읽어봐도 이해가 안돼서 나중에 다시 살펴봐야할 듯 하다.\n",
    "[설명 링크](https://stackoverflow.com/questions/17136794/foldleft-using-foldright-in-scala)"
   ]
  },
  {
   "cell_type": "markdown",
   "metadata": {},
   "source": [
    "# 3-14\n",
    "<a id=\"cell14\"></a>\n"
   ]
  },
  {
   "cell_type": "code",
   "execution_count": 33,
   "metadata": {},
   "outputs": [
    {
     "data": {
      "text/plain": [
       "append: [A](l: List[A], a: A)List[A]\r\n"
      ]
     },
     "execution_count": 33,
     "metadata": {},
     "output_type": "execute_result"
    }
   ],
   "source": [
    "def append[A](l:List[A],a:A) = { \n",
    "    foldRight(l,List(a:A):List[A])(Cons(_,_))\n",
    "}"
   ]
  },
  {
   "cell_type": "code",
   "execution_count": 34,
   "metadata": {},
   "outputs": [
    {
     "data": {
      "text/plain": [
       "x: List[Int] = Cons(1,Cons(2,Cons(3,Cons(4,Cons(5,Cons(6,Nil))))))\r\n",
       "res13: List[Int] = Cons(1,Cons(2,Cons(3,Cons(4,Cons(5,Cons(6,Cons(123,Nil)))))))\r\n"
      ]
     },
     "execution_count": 34,
     "metadata": {},
     "output_type": "execute_result"
    }
   ],
   "source": [
    "val x = List(1,2,3,4,5,6)\n",
    "append(x,123)"
   ]
  },
  {
   "cell_type": "markdown",
   "metadata": {},
   "source": [
    "# 3-15 \n",
    "<a id=\"cell15\"></a>\n",
    "\n",
    "\n",
    "flatten을 구현하는 줄 알았는데\n",
    "그게 아니라 모든 element가 List()인 List를 하나의 List로 바꾸는 작업이었다.\n",
    "\n",
    "flatten은 아래처럼 구하는 데 ++ operator 역할 좀 찾아봐야될듯\n",
    "```scala \n",
    "def flatten(xs: List[Any]): List[Any] = xs match {\n",
    "    case Nil => Nil\n",
    "    case (head: List[_]) :: tail => flatten(head) ++ flatten(tail)\n",
    "    case head :: tail => head :: flatten(tail)\n",
    "  }\n",
    "```\n",
    "\n",
    "\n",
    "++ 추가 \n",
    "List연결 구문임\n",
    "```scala\n",
    "List(1,2,3,4) ++ List(51235,1235,123,412,3412,34)\n",
    "// res8: List[Int] = List(1, 2, 3, 4, 51235, 1235, 123, 412, 3412, 34)\n",
    "```"
   ]
  },
  {
   "cell_type": "code",
   "execution_count": 56,
   "metadata": {},
   "outputs": [
    {
     "data": {
      "text/plain": [
       "test: List[List[Int]] = Cons(Cons(10,Cons(11,Cons(12,Cons(13,Nil)))),Cons(Cons(1,Cons(2,Cons(3,Cons(4,Nil)))),Nil))\r\n"
      ]
     },
     "execution_count": 56,
     "metadata": {},
     "output_type": "execute_result"
    }
   ],
   "source": [
    "val test:List[List[Int]] = List(List(10,11,12,13),List(1,2,3,4))"
   ]
  },
  {
   "cell_type": "markdown",
   "metadata": {},
   "source": [
    "3-14에서 구해야하는 append에 의미도 조금 달랐다\n",
    "list2개를 합치는 느낌"
   ]
  },
  {
   "cell_type": "code",
   "execution_count": 22,
   "metadata": {},
   "outputs": [
    {
     "data": {
      "text/plain": [
       "appendViaFoldRight: [A](head: List[A], tail: List[A])List[A]\r\n"
      ]
     },
     "execution_count": 22,
     "metadata": {},
     "output_type": "execute_result"
    }
   ],
   "source": [
    " def appendViaFoldRight[A](head: List[A], tail: List[A]): List[A] = {\n",
    "    foldRight(head, tail)((x, xs) => Cons(x, xs))\n",
    "  }"
   ]
  },
  {
   "cell_type": "code",
   "execution_count": 23,
   "metadata": {},
   "outputs": [
    {
     "data": {
      "text/plain": [
       "test: List[Int] = Cons(1,Cons(2,Cons(3,Cons(43,Cons(5,Nil)))))\r\n",
       "res11: List[Int] = Cons(1,Cons(2,Cons(3,Cons(43,Cons(5,Cons(55,Cons(44,Cons(33,Cons(44,Nil)))))))))\r\n"
      ]
     },
     "execution_count": 23,
     "metadata": {},
     "output_type": "execute_result"
    }
   ],
   "source": [
    "val test = List(1,2,3,43,5)\n",
    "appendViaFoldRight(test,List(55,44,33,44))"
   ]
  },
  {
   "cell_type": "code",
   "execution_count": 24,
   "metadata": {},
   "outputs": [
    {
     "data": {
      "text/plain": [
       "concat: [A](listsList: List[List[A]])List[A]\r\n"
      ]
     },
     "execution_count": 24,
     "metadata": {},
     "output_type": "execute_result"
    }
   ],
   "source": [
    "def concat[A](listsList: List[List[A]]): List[A] = {\n",
    "    foldLeft(listsList, Nil: List[A])((merged, next) => appendViaFoldRight(merged, next))\n",
    "  }"
   ]
  },
  {
   "cell_type": "code",
   "execution_count": 25,
   "metadata": {},
   "outputs": [
    {
     "ename": "<console>",
     "evalue": "30: error: type mismatch;\r",
     "output_type": "error",
     "traceback": [
      "<console>:30: error: type mismatch;\r",
      " found   : List[Int]\r",
      " required: List[List[?]]\r",
      "       concat(test)\r",
      "              ^\r",
      ""
     ]
    }
   ],
   "source": [
    "concat(test)"
   ]
  },
  {
   "cell_type": "markdown",
   "metadata": {},
   "source": [
    "# 3-16\n",
    "<a id=\"cell16\"></a>\n"
   ]
  },
  {
   "cell_type": "code",
   "execution_count": 73,
   "metadata": {},
   "outputs": [
    {
     "data": {
      "text/plain": [
       "incrementElement: (l: List[Int])List[Int]\r\n"
      ]
     },
     "execution_count": 73,
     "metadata": {},
     "output_type": "execute_result"
    }
   ],
   "source": [
    "def incrementElement(l:List[Int]):List[Int] = {\n",
    "    foldRight(l,Nil:List[Int])((x:Int, xs:List[Int]) => Cons(x+1,xs))\n",
    "}"
   ]
  },
  {
   "cell_type": "code",
   "execution_count": 74,
   "metadata": {},
   "outputs": [
    {
     "data": {
      "text/plain": [
       "test: List[Int] = Cons(1,Cons(2,Cons(3,Cons(4,Cons(5,Nil)))))\r\n",
       "res23: List[Int] = Cons(2,Cons(3,Cons(4,Cons(5,Cons(6,Nil)))))\r\n"
      ]
     },
     "execution_count": 74,
     "metadata": {},
     "output_type": "execute_result"
    }
   ],
   "source": [
    "val test = List(1,2,3,4,5)\n",
    "incrementElement(test)"
   ]
  },
  {
   "cell_type": "markdown",
   "metadata": {},
   "source": [
    "# 3-17\n",
    "<a id=\"cell17\"></a>\n"
   ]
  },
  {
   "cell_type": "code",
   "execution_count": 4,
   "metadata": {},
   "outputs": [
    {
     "data": {
      "text/plain": [
       "convertToString: (l: List[Double])List[String]\r\n"
      ]
     },
     "execution_count": 4,
     "metadata": {},
     "output_type": "execute_result"
    }
   ],
   "source": [
    "def convertToString(l:List[Double]):List[String] = {\n",
    "    foldRight(l,Nil:List[String])((x,xs)=>Cons(x.toString,xs))\n",
    "}"
   ]
  },
  {
   "cell_type": "code",
   "execution_count": 6,
   "metadata": {},
   "outputs": [
    {
     "data": {
      "text/plain": [
       "x: List[Double] = Cons(1.0,Cons(2.0,Cons(3.0,Cons(4.0,Cons(5.0,Nil)))))\r\n",
       "res1: List[String] = Cons(1.0,Cons(2.0,Cons(3.0,Cons(4.0,Cons(5.0,Nil)))))\r\n"
      ]
     },
     "execution_count": 6,
     "metadata": {},
     "output_type": "execute_result"
    }
   ],
   "source": [
    "val x = List(1.0,2.0,3.0,4.0,5.0)\n",
    "convertToString(x)"
   ]
  },
  {
   "cell_type": "markdown",
   "metadata": {},
   "source": [
    "# 3-18\n",
    "<a id=\"cell18\"></a>"
   ]
  },
  {
   "cell_type": "code",
   "execution_count": 7,
   "metadata": {},
   "outputs": [
    {
     "data": {
      "text/plain": [
       "map: [A, B](as: List[A])(f: A => B)List[B]\r\n"
      ]
     },
     "execution_count": 7,
     "metadata": {},
     "output_type": "execute_result"
    }
   ],
   "source": [
    "def map[A,B](as:List[A])(f:A => B): List[B] = {\n",
    "    foldRight(as,Nil:List[B])((x,xs)=>Cons(f(x),xs))\n",
    "}"
   ]
  },
  {
   "cell_type": "code",
   "execution_count": 9,
   "metadata": {},
   "outputs": [
    {
     "data": {
      "text/plain": [
       "x: List[Int] = Cons(1,Cons(2,Cons(3,Cons(4,Cons(5,Nil)))))\r\n",
       "res3: List[Int] = Cons(2,Cons(4,Cons(6,Cons(8,Cons(10,Nil)))))\r\n"
      ]
     },
     "execution_count": 9,
     "metadata": {},
     "output_type": "execute_result"
    }
   ],
   "source": [
    "val x = List(1,2,3,4,5)\n",
    "map(x)(_*2)"
   ]
  },
  {
   "cell_type": "markdown",
   "metadata": {},
   "source": [
    "# 3-19\n",
    "<a id=\"cell19\"></a>"
   ]
  },
  {
   "cell_type": "code",
   "execution_count": 19,
   "metadata": {},
   "outputs": [
    {
     "data": {
      "text/plain": [
       "filter: [A](as: List[A])(f: A => Boolean)List[A]\r\n"
      ]
     },
     "execution_count": 19,
     "metadata": {},
     "output_type": "execute_result"
    }
   ],
   "source": [
    "def filter[A](as:List[A])(f: A => Boolean) : List[A] = {\n",
    "    foldRight(as,Nil:List[A])((x,xs) => if(f(x)) Cons(x,xs) else xs)\n",
    "}"
   ]
  },
  {
   "cell_type": "code",
   "execution_count": 21,
   "metadata": {},
   "outputs": [
    {
     "data": {
      "text/plain": [
       "x: List[Int] = Cons(1,Cons(2,Cons(3,Cons(4,Cons(5,Cons(6,Cons(7,Nil)))))))\r\n",
       "res10: List[Int] = Cons(1,Cons(3,Cons(5,Cons(7,Nil))))\r\n"
      ]
     },
     "execution_count": 21,
     "metadata": {},
     "output_type": "execute_result"
    }
   ],
   "source": [
    "val x = List(1,2,3,4,5,6,7)\n",
    "filter(x)(x => x%2 == 1)"
   ]
  },
  {
   "cell_type": "markdown",
   "metadata": {},
   "source": [
    "# 3-20\n",
    "<a id=\"cell20\"></a>"
   ]
  },
  {
   "cell_type": "code",
   "execution_count": 43,
   "metadata": {},
   "outputs": [
    {
     "data": {
      "text/plain": [
       "flatMap: [A, B](as: List[A])(f: A => List[B])List[B]\r\n"
      ]
     },
     "execution_count": 43,
     "metadata": {},
     "output_type": "execute_result"
    }
   ],
   "source": [
    "def flatMap[A,B](as:List[A])(f: A => List[B]):List[B] = {\n",
    "    foldRight(as,Nil:List[B])((x,xs) => appendViaFoldRight(f(x),xs))\n",
    "}"
   ]
  },
  {
   "cell_type": "code",
   "execution_count": 44,
   "metadata": {},
   "outputs": [
    {
     "data": {
      "text/plain": [
       "x: List[Int] = Cons(1,Cons(2,Cons(3,Nil)))\r\n",
       "res16: List[Int] = Cons(1,Cons(1,Cons(2,Cons(2,Cons(3,Cons(3,Nil))))))\r\n"
      ]
     },
     "execution_count": 44,
     "metadata": {},
     "output_type": "execute_result"
    }
   ],
   "source": [
    "val x = List(1,2,3)\n",
    "flatMap(x)(i=>List(i,i))"
   ]
  },
  {
   "cell_type": "markdown",
   "metadata": {},
   "source": [
    "# 3-21\n",
    "<a id=\"cell21\"></a>"
   ]
  },
  {
   "cell_type": "code",
   "execution_count": 48,
   "metadata": {},
   "outputs": [
    {
     "data": {
      "text/plain": [
       "filter2: [A](as: List[A])(f: A => Boolean)List[A]\r\n"
      ]
     },
     "execution_count": 48,
     "metadata": {},
     "output_type": "execute_result"
    }
   ],
   "source": [
    "def filter2[A](as:List[A])(f:A => Boolean): List[A] = {\n",
    "    flatMap(as)(x => if(f(x)) Cons(x,Nil) else Nil)\n",
    "}"
   ]
  },
  {
   "cell_type": "code",
   "execution_count": 49,
   "metadata": {},
   "outputs": [
    {
     "data": {
      "text/plain": [
       "x: List[Int] = Cons(1,Cons(2,Cons(3,Cons(4,Cons(5,Cons(6,Cons(7,Nil)))))))\r\n",
       "res18: List[Int] = Cons(1,Cons(3,Cons(5,Cons(7,Nil))))\r\n"
      ]
     },
     "execution_count": 49,
     "metadata": {},
     "output_type": "execute_result"
    }
   ],
   "source": [
    "val x = List(1,2,3,4,5,6,7)\n",
    "filter2(x)(x => x%2 == 1)"
   ]
  },
  {
   "cell_type": "markdown",
   "metadata": {},
   "source": [
    "# 3-22\n",
    "<a id=\"cell22\"></a>"
   ]
  },
  {
   "cell_type": "code",
   "execution_count": 70,
   "metadata": {},
   "outputs": [
    {
     "data": {
      "text/plain": [
       "addConcat: (al: List[Int], bl: List[Int])List[Int]\r\n"
      ]
     },
     "execution_count": 70,
     "metadata": {},
     "output_type": "execute_result"
    }
   ],
   "source": [
    "def addConcat(al:List[Int],bl:List[Int]):List[Int] = (al,bl) match {\n",
    "    case (al,Nil) => Nil\n",
    "    case (Nil,bl) => Nil\n",
    "    case (Cons(a,as),Cons(b,bs)) => Cons(a+b,addConcat(as,bs))\n",
    "}"
   ]
  },
  {
   "cell_type": "code",
   "execution_count": 71,
   "metadata": {},
   "outputs": [
    {
     "data": {
      "text/plain": [
       "a: List[Int] = Cons(1,Cons(2,Cons(3,Cons(4,Nil))))\r\n",
       "b: List[Int] = Cons(5,Cons(6,Cons(7,Cons(8,Nil))))\r\n",
       "res21: List[Int] = Cons(6,Cons(8,Cons(10,Cons(12,Nil))))\r\n"
      ]
     },
     "execution_count": 71,
     "metadata": {},
     "output_type": "execute_result"
    }
   ],
   "source": [
    "val a = List(1,2,3,4)\n",
    "val b = List(5,6,7,8)\n",
    "addConcat(a,b)"
   ]
  },
  {
   "cell_type": "markdown",
   "metadata": {},
   "source": [
    "# 3-23\n",
    "<a id=\"cell23\"></a>\n",
    "<b> 일반화 다시 <br> </b>\n",
    "'+' 뿐만 아니라 다른 function도 적용가능 하도록"
   ]
  },
  {
   "cell_type": "code",
   "execution_count": 78,
   "metadata": {},
   "outputs": [
    {
     "ename": "<console>",
     "evalue": "36: error: type mismatch;\r",
     "output_type": "error",
     "traceback": [
      "<console>:36: error: type mismatch;\r",
      " found   : String\r",
      " required: A\r",
      "           case (Cons(a,as),Cons(b,bs)) => Cons(a.toString+b.toString,zipWith(as,bs))\r",
      "                                                          ^\r",
      ""
     ]
    }
   ],
   "source": [
    "def zipWith[A](al:List[A],bl:List[A]):List[A] = (al,bl) match {\n",
    "    case (al,Nil) => Nil\n",
    "    case (Nil,bl) => Nil\n",
    "    case (Cons(a,as),Cons(b,bs)) => Cons(a+b,zipWith(as,bs))\n",
    "}"
   ]
  },
  {
   "cell_type": "markdown",
   "metadata": {},
   "source": [
    "# 3-24\n",
    "<a id=\"cell24\"></a>"
   ]
  },
  {
   "cell_type": "code",
   "execution_count": 83,
   "metadata": {},
   "outputs": [
    {
     "data": {
      "text/plain": [
       "hasSubsequence: [A](sup: List[A], sub: List[A])Boolean\r\n"
      ]
     },
     "execution_count": 83,
     "metadata": {},
     "output_type": "execute_result"
    }
   ],
   "source": [
    "@annotation.tailrec\n",
    "def hasSubsequence[A](sup:List[A],sub:List[A]):Boolean = (sup,sub) match {\n",
    "    case (_, Nil) => true\n",
    "    case (Nil, _) => false\n",
    "    case (Cons(a,as),Cons(b,bs)) => if(a ==b) hasSubsequence(as,bs) else hasSubsequence(as,Cons(b,bs))\n",
    "}"
   ]
  },
  {
   "cell_type": "code",
   "execution_count": 82,
   "metadata": {},
   "outputs": [
    {
     "data": {
      "text/plain": [
       "x: List[Int] = Cons(1,Cons(2,Cons(3,Cons(4,Nil))))\r\n",
       "y: List[Int] = Cons(3,Cons(2,Nil))\r\n",
       "res24: Boolean = false\r\n"
      ]
     },
     "execution_count": 82,
     "metadata": {},
     "output_type": "execute_result"
    }
   ],
   "source": [
    "val x = List(1,2,3,4)\n",
    "val y= List(3,2)\n",
    "hasSubsequence(x,y)"
   ]
  },
  {
   "cell_type": "code",
   "execution_count": 92,
   "metadata": {},
   "outputs": [
    {
     "data": {
      "text/plain": [
       "startsWith: [A](l: List[A], prefix: List[A])Boolean\r\n",
       "hasSubsequence: [A](sup: List[A], sub: List[A])Boolean\r\n"
      ]
     },
     "execution_count": 92,
     "metadata": {},
     "output_type": "execute_result"
    }
   ],
   "source": [
    "@annotation.tailrec\n",
    "  def startsWith[A](l: List[A], prefix: List[A]): Boolean = (l,prefix) match{\n",
    "    case (_,Nil) => true\n",
    "    case (Cons(h,t),Cons(h2,t2)) if h == h2 => startsWith(t, t2)\n",
    "    case _ => false\n",
    "  }\n",
    "\n",
    "  @annotation.tailrec\n",
    "  def hasSubsequence[A](sup: List[A], sub: List[A]): Boolean = sup match{\n",
    "    case Nil => sub == Nil\n",
    "    case Cons(h,t) if startsWith(sup, sub) => true\n",
    "    case Cons(h,t) => hasSubsequence(t, sub)\n",
    "  }"
   ]
  },
  {
   "cell_type": "code",
   "execution_count": 95,
   "metadata": {},
   "outputs": [
    {
     "data": {
      "text/plain": [
       "x: List[Int] = Cons(1,Cons(2,Cons(3,Cons(4,Nil))))\r\n",
       "y: List[Int] = Cons(1,Cons(3,Nil))\r\n",
       "res30: Boolean = false\r\n"
      ]
     },
     "execution_count": 95,
     "metadata": {},
     "output_type": "execute_result"
    }
   ],
   "source": [
    "val x = List(1,2,3,4)\n",
    "val y= List(1,3)\n",
    "hasSubsequence(x,y)"
   ]
  },
  {
   "cell_type": "code",
   "execution_count": null,
   "metadata": {},
   "outputs": [],
   "source": []
  }
 ],
 "metadata": {
  "kernelspec": {
   "display_name": "spylon-kernel",
   "language": "scala",
   "name": "spylon-kernel"
  },
  "language_info": {
   "codemirror_mode": "text/x-scala",
   "file_extension": ".scala",
   "help_links": [
    {
     "text": "MetaKernel Magics",
     "url": "https://metakernel.readthedocs.io/en/latest/source/README.html"
    }
   ],
   "mimetype": "text/x-scala",
   "name": "scala",
   "pygments_lexer": "scala",
   "version": "0.4.1"
  }
 },
 "nbformat": 4,
 "nbformat_minor": 2
}
