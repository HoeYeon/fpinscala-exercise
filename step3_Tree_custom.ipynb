{
 "cells": [
  {
   "cell_type": "code",
   "execution_count": 1,
   "metadata": {},
   "outputs": [
    {
     "data": {
      "text/plain": [
       "Intitializing Scala interpreter ..."
      ]
     },
     "metadata": {},
     "output_type": "display_data"
    },
    {
     "data": {
      "text/plain": [
       "Spark Web UI available at http://DESKTOP-5DEVR1B:4040\n",
       "SparkContext available as 'sc' (version = 3.1.2, master = local[*], app id = local-1642512992553)\n",
       "SparkSession available as 'spark'\n"
      ]
     },
     "metadata": {},
     "output_type": "display_data"
    },
    {
     "data": {
      "text/plain": [
       "defined trait Tree\r\n",
       "defined class Leaf\r\n",
       "defined class Branch\r\n"
      ]
     },
     "execution_count": 1,
     "metadata": {},
     "output_type": "execute_result"
    }
   ],
   "source": [
    "sealed trait Tree[+A]\n",
    "case class Leaf[A](value: A) extends Tree[A]\n",
    "case class Branch[A](left:Tree[A], right:Tree[A]) extends Tree[A]"
   ]
  },
  {
   "cell_type": "code",
   "execution_count": 53,
   "metadata": {},
   "outputs": [
    {
     "data": {
      "text/plain": [
       "count: [A](t: Tree[A], b: Int, l: Int)(Int, Int)\r\n"
      ]
     },
     "execution_count": 53,
     "metadata": {},
     "output_type": "execute_result"
    }
   ],
   "source": [
    "def count[A](t:Tree[A],b:Int,l:Int):(Int,Int) = t match {\n",
    "    case Leaf(_) => (b,l+1)\n",
    "    case Branch(left,right) => {\n",
    "        val ll = count[A](left,b,l)\n",
    "        val rr = count[A](right,b,l)\n",
    "        (ll._1+rr._1+1,ll._2+rr._2)\n",
    "    }\n",
    "}"
   ]
  },
  {
   "cell_type": "code",
   "execution_count": 51,
   "metadata": {},
   "outputs": [
    {
     "data": {
      "text/plain": [
       "x: Branch[Int] = Branch(Branch(Leaf(1),Leaf(2)),Branch(Leaf(1),Branch(Leaf(2),Leaf(3))))\r\n",
       "res16: (Int, Int) = (4,5)\r\n"
      ]
     },
     "execution_count": 51,
     "metadata": {},
     "output_type": "execute_result"
    }
   ],
   "source": [
    "val x = Branch(Branch(Leaf(1),Leaf(2)),Branch(Leaf(1),Branch(Leaf(2),Leaf(3))))\n",
    "count(x,0,0)"
   ]
  },
  {
   "cell_type": "code",
   "execution_count": 59,
   "metadata": {},
   "outputs": [
    {
     "data": {
      "text/plain": [
       "getMax: (t: Tree[Int], maxVal: Int)Int\r\n"
      ]
     },
     "execution_count": 59,
     "metadata": {},
     "output_type": "execute_result"
    }
   ],
   "source": [
    "def getMax(t:Tree[Int],maxVal:Int): Int = t match {\n",
    "    case Leaf(v) =>  v\n",
    "    case Branch(l,r) => getMax(l,maxVal) max getMax(r, maxVal)\n",
    "}"
   ]
  },
  {
   "cell_type": "code",
   "execution_count": 60,
   "metadata": {},
   "outputs": [
    {
     "data": {
      "text/plain": [
       "x: Branch[Int] = Branch(Branch(Leaf(1),Leaf(2)),Branch(Leaf(1),Branch(Leaf(17),Leaf(3))))\r\n",
       "res19: Int = 17\r\n"
      ]
     },
     "execution_count": 60,
     "metadata": {},
     "output_type": "execute_result"
    }
   ],
   "source": [
    "val x = Branch(Branch(Leaf(1),Leaf(2)),Branch(Leaf(1),Branch(Leaf(17),Leaf(3))))\n",
    "getMax(x,0)"
   ]
  },
  {
   "cell_type": "markdown",
   "metadata": {},
   "source": [
    "# 3.27"
   ]
  },
  {
   "cell_type": "code",
   "execution_count": 68,
   "metadata": {},
   "outputs": [
    {
     "data": {
      "text/plain": [
       "getMaxDepth: [A](t: Tree[A], maxDepth: Int)Int\r\n"
      ]
     },
     "execution_count": 68,
     "metadata": {},
     "output_type": "execute_result"
    }
   ],
   "source": [
    "def getMaxDepth[A](t:Tree[A],maxDepth:Int):Int = t match {\n",
    "    case Leaf(v) => maxDepth\n",
    "    case Branch(l,r) => (getMaxDepth(l,maxDepth) max getMaxDepth(r,maxDepth)) +1\n",
    "}"
   ]
  },
  {
   "cell_type": "code",
   "execution_count": 69,
   "metadata": {},
   "outputs": [
    {
     "data": {
      "text/plain": [
       "x: Branch[Int] = Branch(Branch(Leaf(1),Leaf(2)),Branch(Leaf(1),Branch(Leaf(17),Leaf(3))))\r\n",
       "res23: Int = 3\r\n"
      ]
     },
     "execution_count": 69,
     "metadata": {},
     "output_type": "execute_result"
    }
   ],
   "source": [
    "val x = Branch(Branch(Leaf(1),Leaf(2)),Branch(Leaf(1),Branch(Leaf(17),Leaf(3))))\n",
    "getMaxDepth(x,0)"
   ]
  },
  {
   "cell_type": "markdown",
   "metadata": {},
   "source": [
    "# 3-28"
   ]
  },
  {
   "cell_type": "code",
   "execution_count": 72,
   "metadata": {},
   "outputs": [
    {
     "data": {
      "text/plain": [
       "map: [A, B](t: Tree[A])(f: A => B)Tree[B]\r\n"
      ]
     },
     "execution_count": 72,
     "metadata": {},
     "output_type": "execute_result"
    }
   ],
   "source": [
    "def map[A,B](t:Tree[A])(f: A => B): Tree[B] = t match {\n",
    "    case Leaf(v) => Leaf(f(v))\n",
    "    case Branch(l,r) => Branch(map(l)(f),map(r)(f))\n",
    "}"
   ]
  },
  {
   "cell_type": "code",
   "execution_count": 73,
   "metadata": {},
   "outputs": [
    {
     "data": {
      "text/plain": [
       "x: Branch[Int] = Branch(Branch(Leaf(1),Leaf(2)),Branch(Leaf(1),Branch(Leaf(17),Leaf(3))))\r\n",
       "res24: Tree[Int] = Branch(Branch(Leaf(2),Leaf(4)),Branch(Leaf(2),Branch(Leaf(34),Leaf(6))))\r\n"
      ]
     },
     "execution_count": 73,
     "metadata": {},
     "output_type": "execute_result"
    }
   ],
   "source": [
    "val x = Branch(Branch(Leaf(1),Leaf(2)),Branch(Leaf(1),Branch(Leaf(17),Leaf(3))))\n",
    "map(x)(t => t*2)"
   ]
  },
  {
   "cell_type": "code",
   "execution_count": null,
   "metadata": {},
   "outputs": [],
   "source": []
  }
 ],
 "metadata": {
  "kernelspec": {
   "display_name": "spylon-kernel",
   "language": "scala",
   "name": "spylon-kernel"
  },
  "language_info": {
   "codemirror_mode": "text/x-scala",
   "file_extension": ".scala",
   "help_links": [
    {
     "text": "MetaKernel Magics",
     "url": "https://metakernel.readthedocs.io/en/latest/source/README.html"
    }
   ],
   "mimetype": "text/x-scala",
   "name": "scala",
   "pygments_lexer": "scala",
   "version": "0.4.1"
  }
 },
 "nbformat": 4,
 "nbformat_minor": 2
}
