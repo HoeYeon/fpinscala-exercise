{
 "cells": [
  {
   "cell_type": "markdown",
   "metadata": {},
   "source": [
    "# 3-1"
   ]
  },
  {
   "cell_type": "code",
   "execution_count": 3,
   "metadata": {},
   "outputs": [
    {
     "data": {
      "text/plain": [
       "defined trait List\r\n",
       "defined object Nil\r\n",
       "defined class Cons\r\n",
       "defined object List\r\n"
      ]
     },
     "execution_count": 3,
     "metadata": {},
     "output_type": "execute_result"
    }
   ],
   "source": [
    "sealed trait List[+A]\n",
    "case object Nil extends List[Nothing]\n",
    "case class Cons[+A](head:A, tail: List[A]) extends List[A]\n",
    "\n",
    "\n",
    "object List{ \n",
    "  def sum(ints: List[Int]): Int = ints match {\n",
    "    case Nil => 0\n",
    "    case Cons(x,xs) => x + sum(xs) \n",
    "}\n",
    "  def product(ds: List[Double]): Double = ds match{\n",
    "    case Nil => 1.0\n",
    "    case Cons(0.0, _) => 0.0\n",
    "    case Cons(x,xs) => x * product(xs)\n",
    "  }\n",
    "\n",
    "  def apply[A](as: A*): List[A] = \n",
    "    if (as.isEmpty) Nil\n",
    "    else Cons(as.head, apply(as.tail: _*))\n",
    "  \n",
    "}"
   ]
  },
  {
   "cell_type": "code",
   "execution_count": 5,
   "metadata": {},
   "outputs": [
    {
     "data": {
      "text/plain": [
       "x: Int = 3\r\n"
      ]
     },
     "execution_count": 5,
     "metadata": {},
     "output_type": "execute_result"
    }
   ],
   "source": [
    "val x= List(1,2,3,4,5) match {\n",
    "    case Cons(x,Cons(2,Cons(4,_))) => x\n",
    "    case Nil => 42\n",
    "    case Cons(x,Cons(y,Cons(3,Cons(4,_)))) => x + y\n",
    "    case Cons(h,t) => h + List.sum(t)\n",
    "    case _ => 10\n",
    "}"
   ]
  },
  {
   "cell_type": "markdown",
   "metadata": {},
   "source": [
    "# 3-2"
   ]
  },
  {
   "cell_type": "code",
   "execution_count": 3,
   "metadata": {},
   "outputs": [
    {
     "data": {
      "text/plain": [
       "tail: [A](xs: List[A])List[A]\r\n"
      ]
     },
     "execution_count": 3,
     "metadata": {},
     "output_type": "execute_result"
    }
   ],
   "source": [
    "def tail[A](xs: List[A]):List[A] = xs match {\n",
    "    case Nil =>Nil\n",
    "    case Cons(t,ts) => ts\n",
    "}"
   ]
  },
  {
   "cell_type": "code",
   "execution_count": 9,
   "metadata": {},
   "outputs": [
    {
     "data": {
      "text/plain": [
       "x: List[Int] = Cons(1,Cons(2,Cons(3,Cons(4,Cons(5,Cons(6,Nil))))))\r\n",
       "res2: List[Int] = Cons(2,Cons(3,Cons(4,Cons(5,Cons(6,Nil)))))\r\n"
      ]
     },
     "execution_count": 9,
     "metadata": {},
     "output_type": "execute_result"
    }
   ],
   "source": [
    "val x = List(1,2,3,4,5,6)\n",
    "tail(x)"
   ]
  },
  {
   "cell_type": "markdown",
   "metadata": {},
   "source": [
    "## 3-3"
   ]
  },
  {
   "cell_type": "code",
   "execution_count": 6,
   "metadata": {},
   "outputs": [
    {
     "data": {
      "text/plain": [
       "setHead: [A](xs: List[A], elem: A)List[A]\r\n"
      ]
     },
     "execution_count": 6,
     "metadata": {},
     "output_type": "execute_result"
    }
   ],
   "source": [
    "def setHead[A](xs:List[A], elem:A):List[A] = xs match {\n",
    "    case Nil => Nil\n",
    "    case Cons(t,ts) => Cons(elem,ts)\n",
    "}"
   ]
  },
  {
   "cell_type": "code",
   "execution_count": 8,
   "metadata": {},
   "outputs": [
    {
     "data": {
      "text/plain": [
       "x: List[Int] = Cons(1,Cons(2,Cons(3,Cons(4,Nil))))\r\n",
       "res1: List[Int] = Cons(6,Cons(2,Cons(3,Cons(4,Nil))))\r\n"
      ]
     },
     "execution_count": 8,
     "metadata": {},
     "output_type": "execute_result"
    }
   ],
   "source": [
    "val x = List(1,2,3,4)\n",
    "setHead(x,6)"
   ]
  },
  {
   "cell_type": "markdown",
   "metadata": {},
   "source": [
    "# 3-4"
   ]
  },
  {
   "cell_type": "code",
   "execution_count": 17,
   "metadata": {},
   "outputs": [
    {
     "data": {
      "text/plain": [
       "drop: [A](l: List[A], n: Int)List[A]\r\n"
      ]
     },
     "execution_count": 17,
     "metadata": {},
     "output_type": "execute_result"
    }
   ],
   "source": [
    "@annotation.tailrec\n",
    "def drop[A](l:List[A], n:Int):List[A] = l match{\n",
    "    case Nil => Nil\n",
    "    case Cons(x,xs) => if(n == 0) l else drop(xs,n-1)\n",
    "}"
   ]
  },
  {
   "cell_type": "code",
   "execution_count": 18,
   "metadata": {},
   "outputs": [
    {
     "data": {
      "text/plain": [
       "x: List[Int] = Cons(5,Cons(4,Cons(3,Cons(3,Cons(2,Cons(1,Nil))))))\r\n",
       "res4: List[Int] = Cons(3,Cons(2,Cons(1,Nil)))\r\n"
      ]
     },
     "execution_count": 18,
     "metadata": {},
     "output_type": "execute_result"
    }
   ],
   "source": [
    "val x = List(5,4,3,3,2,1)\n",
    "drop(x,3)"
   ]
  },
  {
   "cell_type": "markdown",
   "metadata": {},
   "source": [
    "# 3-5"
   ]
  },
  {
   "cell_type": "code",
   "execution_count": 6,
   "metadata": {},
   "outputs": [
    {
     "data": {
      "text/plain": [
       "dropWhile: [A](l: List[A], f: A => Boolean)List[A]\r\n"
      ]
     },
     "execution_count": 6,
     "metadata": {},
     "output_type": "execute_result"
    }
   ],
   "source": [
    "@annotation.tailrec\n",
    "def dropWhile[A](l: List[A], f: A => Boolean): List[A] = l match {\n",
    "    case Nil => Nil\n",
    "    case Cons(x,xs) => if (f(x)) dropWhile(xs,f) else Cons(x,xs)\n",
    "}"
   ]
  },
  {
   "cell_type": "code",
   "execution_count": 9,
   "metadata": {
    "scrolled": true
   },
   "outputs": [
    {
     "data": {
      "text/plain": [
       "x: List[Int] = Cons(1,Cons(2,Cons(3,Cons(4,Cons(5,Cons(6,Cons(6,Cons(7,Nil))))))))\r\n",
       "res4: List[Int] = Cons(2,Cons(3,Cons(4,Cons(5,Cons(6,Cons(6,Cons(7,Nil)))))))\r\n"
      ]
     },
     "execution_count": 9,
     "metadata": {},
     "output_type": "execute_result"
    }
   ],
   "source": [
    "val x = List(1,2,3,4,5,6,6,7)\n",
    "dropWhile(x, (a:Int) => a%2 == 1)"
   ]
  },
  {
   "cell_type": "markdown",
   "metadata": {},
   "source": [
    "### 3-5 형식추론 개선\n",
    "\n",
    "파라미터를 두 그룹으로 분리하면 첫번째 인수를 받았을 때 두번째는 반드시 같은 타입을 받아야 하므로 형식 생략이 가능"
   ]
  },
  {
   "cell_type": "code",
   "execution_count": 11,
   "metadata": {},
   "outputs": [
    {
     "data": {
      "text/plain": [
       "dropWhile: [A](l: List[A])(f: A => Boolean)List[A]\r\n"
      ]
     },
     "execution_count": 11,
     "metadata": {},
     "output_type": "execute_result"
    }
   ],
   "source": [
    "@annotation.tailrec\n",
    "def dropWhile[A](l: List[A])(f: A => Boolean): List[A] = l match {\n",
    "    case Nil => Nil\n",
    "    case Cons(x,xs) => if (f(x)) dropWhile(xs)(f) else Cons(x,xs)\n",
    "}"
   ]
  },
  {
   "cell_type": "code",
   "execution_count": 12,
   "metadata": {},
   "outputs": [
    {
     "data": {
      "text/plain": [
       "x: List[Int] = Cons(1,Cons(2,Cons(3,Cons(4,Cons(5,Cons(6,Cons(6,Cons(7,Nil))))))))\r\n",
       "res5: List[Int] = Cons(2,Cons(3,Cons(4,Cons(5,Cons(6,Cons(6,Cons(7,Nil)))))))\r\n"
      ]
     },
     "execution_count": 12,
     "metadata": {},
     "output_type": "execute_result"
    }
   ],
   "source": [
    "val x = List(1,2,3,4,5,6,6,7)\n",
    "dropWhile(x)(a => a%2 == 1)"
   ]
  },
  {
   "cell_type": "markdown",
   "metadata": {},
   "source": [
    "# 3-6"
   ]
  },
  {
   "cell_type": "code",
   "execution_count": 26,
   "metadata": {},
   "outputs": [
    {
     "data": {
      "text/plain": [
       "init: [A](l: List[A])List[A]\r\n"
      ]
     },
     "execution_count": 26,
     "metadata": {},
     "output_type": "execute_result"
    }
   ],
   "source": [
    "@annotation.tailrec\n",
    "def init[A](l: List[A]): List[A] = l match {\n",
    "    case Nil => Nil\n",
    "    case Cons(x,xs) => if(xs == Nil) Cons(x,xs) else init(xs)\n",
    "}"
   ]
  },
  {
   "cell_type": "code",
   "execution_count": 28,
   "metadata": {},
   "outputs": [
    {
     "data": {
      "text/plain": [
       "x: List[Int] = Cons(1,Cons(2,Cons(3,Cons(4,Cons(512351253,Nil)))))\r\n",
       "res10: List[Int] = Cons(512351253,Nil)\r\n"
      ]
     },
     "execution_count": 28,
     "metadata": {},
     "output_type": "execute_result"
    }
   ],
   "source": [
    "val x = List(1,2,3,4,512351253)\n",
    "init(x)"
   ]
  },
  {
   "cell_type": "markdown",
   "metadata": {},
   "source": [
    "# 3-7\n",
    "sum에 제네릭 타입으로 사용은 못하나? 의미가 없나"
   ]
  },
  {
   "cell_type": "code",
   "execution_count": 37,
   "metadata": {},
   "outputs": [
    {
     "data": {
      "text/plain": [
       "foldRight: [A, B](l: List[A], z: B)(f: (A, B) => B)B\r\n",
       "sum: (l: List[Int])Int\r\n",
       "product: (l: List[Double])Double\r\n"
      ]
     },
     "execution_count": 37,
     "metadata": {},
     "output_type": "execute_result"
    }
   ],
   "source": [
    "def foldRight[A,B](l:List[A],z:B)(f:(A,B)=>B) : B = l match {\n",
    "    case Nil => z\n",
    "    case Cons(x,xs) => f(x,foldRight(xs,z)(f))\n",
    "}\n",
    "\n",
    "def sum(l:List[Int]) = {\n",
    "    foldRight(l,0)(_+_)\n",
    "}\n",
    "\n",
    "def product(l:List[Double]) = {\n",
    "    foldRight(l,1.0)(_ * _)\n",
    "}"
   ]
  },
  {
   "cell_type": "code",
   "execution_count": 27,
   "metadata": {},
   "outputs": [
    {
     "data": {
      "text/plain": [
       "res8: Double = 0.0\r\n"
      ]
     },
     "execution_count": 27,
     "metadata": {},
     "output_type": "execute_result"
    }
   ],
   "source": [
    "product(List(1,0,3,4))\n",
    "// 중간에 안멈추고 끝까지 감 --> 재귀로 값을 돌려줘야하기 때문에 끝까지 갔다가 돌아와야함"
   ]
  },
  {
   "cell_type": "code",
   "execution_count": 28,
   "metadata": {},
   "outputs": [
    {
     "data": {
      "text/plain": [
       "res9: List[Int] = Cons(1,Cons(2,Cons(3,Nil)))\r\n"
      ]
     },
     "execution_count": 28,
     "metadata": {},
     "output_type": "execute_result"
    }
   ],
   "source": [
    "foldRight(List(1,2,3), Nil:List[Int])(Cons(_,_))"
   ]
  },
  {
   "cell_type": "code",
   "execution_count": 29,
   "metadata": {},
   "outputs": [
    {
     "data": {
      "text/plain": [
       "res10: List[Int] = Cons(1,Cons(2,Cons(3,Nil)))\r\n"
      ]
     },
     "execution_count": 29,
     "metadata": {},
     "output_type": "execute_result"
    }
   ],
   "source": [
    "List(1,2,3)"
   ]
  },
  {
   "cell_type": "markdown",
   "metadata": {},
   "source": [
    "# 3-9"
   ]
  },
  {
   "cell_type": "code",
   "execution_count": 36,
   "metadata": {},
   "outputs": [
    {
     "data": {
      "text/plain": [
       "length: [A](as: List[A])Int\r\n"
      ]
     },
     "execution_count": 36,
     "metadata": {},
     "output_type": "execute_result"
    }
   ],
   "source": [
    "def length[A](as:List[A]):Int = {\n",
    "    foldRight(as,0)((_,b) => b+1)\n",
    "}"
   ]
  },
  {
   "cell_type": "code",
   "execution_count": 37,
   "metadata": {},
   "outputs": [
    {
     "data": {
      "text/plain": [
       "x: List[Int] = Cons(1,Cons(2,Cons(3,Cons(4,Cons(6,Nil)))))\r\n",
       "res12: Int = 5\r\n"
      ]
     },
     "execution_count": 37,
     "metadata": {},
     "output_type": "execute_result"
    }
   ],
   "source": [
    "val x = List(1,2,3,4,6)\n",
    "length(x)"
   ]
  },
  {
   "cell_type": "markdown",
   "metadata": {},
   "source": [
    "# 3-10\n",
    "\n",
    "\n",
    "1 + foldRight                <br>\n",
    "1 + (2 + foldRight)          <br>\n",
    "1 + (2 + (3 + foldRight))    <br>\n",
    "\n",
    "\n",
    "foldLeft(() , 1)     <br>\n",
    "foldLeft((), 1+2)    <br>\n",
    "foldLeft((),1+2+3)   <br>\n",
    "\n",
    "\n",
    "foldLeft는 더해나가는거고 foldRight은 한번 쭉 풀었다가 다시 더하는 방식\n",
    "--> foldLeft가 tailrec\n"
   ]
  },
  {
   "cell_type": "code",
   "execution_count": 43,
   "metadata": {},
   "outputs": [
    {
     "data": {
      "text/plain": [
       "foldLeft: [A, B](as: List[A], defaultVal: B)(f: (B, A) => B)B\r\n"
      ]
     },
     "execution_count": 43,
     "metadata": {},
     "output_type": "execute_result"
    }
   ],
   "source": [
    "@annotation.tailrec\n",
    "def foldLeft[A,B](as:List[A],defaultVal:B)(f:(B,A) => B):B = as match {\n",
    "    case Nil => defaultVal\n",
    "    case Cons(x,xs) => foldLeft(xs,f(defaultVal,x))(f)\n",
    "}"
   ]
  },
  {
   "cell_type": "code",
   "execution_count": 10,
   "metadata": {},
   "outputs": [
    {
     "name": "stdout",
     "output_type": "stream",
     "text": [
      "15\n",
      "120.0\n"
     ]
    },
    {
     "data": {
      "text/plain": [
       "sum: (l: List[Int])Int\r\n",
       "product: (l: List[Double])Double\r\n"
      ]
     },
     "execution_count": 10,
     "metadata": {},
     "output_type": "execute_result"
    }
   ],
   "source": [
    "def sum(l:List[Int]) = {\n",
    "    foldLeft(l,0)(_+_)\n",
    "}\n",
    "\n",
    "def product(l:List[Double]) = {\n",
    "    foldLeft(l,1.0)(_*_)\n",
    "}\n",
    "println(sum(List(1,2,3,4,5)))\n",
    "println(product(List(1,2,3,4,5)))"
   ]
  },
  {
   "cell_type": "markdown",
   "metadata": {},
   "source": [
    "# 3.12"
   ]
  },
  {
   "cell_type": "code",
   "execution_count": 31,
   "metadata": {},
   "outputs": [
    {
     "data": {
      "text/plain": [
       "x: List[Int] = Cons(1,Cons(2,Cons(3,Cons(4,Nil))))\r\n"
      ]
     },
     "execution_count": 31,
     "metadata": {},
     "output_type": "execute_result"
    }
   ],
   "source": [
    "val x= List(1,2,3,4)"
   ]
  },
  {
   "cell_type": "code",
   "execution_count": 32,
   "metadata": {},
   "outputs": [
    {
     "data": {
      "text/plain": [
       "reverse: (l: List[Int])List[Int]\r\n"
      ]
     },
     "execution_count": 32,
     "metadata": {},
     "output_type": "execute_result"
    }
   ],
   "source": [
    "def reverse(l:List[Int]) = {\n",
    "    foldLeft(l,Nil:List[Int])((b:List[Int],a:Int) => Cons(a,b))\n",
    "}"
   ]
  },
  {
   "cell_type": "code",
   "execution_count": 33,
   "metadata": {},
   "outputs": [
    {
     "data": {
      "text/plain": [
       "res9: List[Int] = Cons(4,Cons(3,Cons(2,Cons(1,Nil))))\r\n"
      ]
     },
     "execution_count": 33,
     "metadata": {},
     "output_type": "execute_result"
    }
   ],
   "source": [
    "reverse(x)"
   ]
  },
  {
   "cell_type": "markdown",
   "metadata": {},
   "source": [
    "# 3.13"
   ]
  },
  {
   "cell_type": "code",
   "execution_count": 40,
   "metadata": {},
   "outputs": [
    {
     "data": {
      "text/plain": [
       "foldLeft2: [A, B](l: List[A], defaultVal: B)(f: (A, B) => B)B\r\n"
      ]
     },
     "execution_count": 40,
     "metadata": {},
     "output_type": "execute_result"
    }
   ],
   "source": [
    "// def foldRight2(l:List[Int]) = {\n",
    "    \n",
    "// }\n",
    "\n",
    "def foldLeft2[A,B](l:List[A],defaultVal:B)(f:(A,B)=>B):B = l match {\n",
    "    case Nil => defaultVal\n",
    "    case Cons(x,xs) => foldRight(xs,foldRight(xs,defaultVal)(f))(f)\n",
    "}"
   ]
  },
  {
   "cell_type": "code",
   "execution_count": 41,
   "metadata": {},
   "outputs": [
    {
     "name": "stdout",
     "output_type": "stream",
     "text": [
      "28\n",
      "14400.0\n"
     ]
    },
    {
     "data": {
      "text/plain": [
       "sum: (l: List[Int])Int\r\n",
       "product: (l: List[Double])Double\r\n"
      ]
     },
     "execution_count": 41,
     "metadata": {},
     "output_type": "execute_result"
    }
   ],
   "source": [
    "def sum(l:List[Int]) = {\n",
    "    foldLeft2(l,0)(_+_)\n",
    "}\n",
    "\n",
    "def product(l:List[Double]) = {\n",
    "    foldLeft2(l,1.0)(_*_)\n",
    "}\n",
    "println(sum(List(1,2,3,4,5)))\n",
    "println(product(List(1,2,3,4,5)))"
   ]
  },
  {
   "cell_type": "code",
   "execution_count": null,
   "metadata": {},
   "outputs": [],
   "source": [
    "def foldRight[A,B](l:List[A],z:B)(f:(A,B)=>B) : B = l match {\n",
    "    case Nil => z\n",
    "    case Cons(x,xs) => f(x,foldRight(xs,z)(f))\n",
    "}\n",
    "\n",
    "\n",
    "@annotation.tailrec\n",
    "def foldLeft[A,B](as:List[A],defaultVal:B)(f:(B,A) => B):B = as match {\n",
    "    case Nil => defaultVal\n",
    "    case Cons(x,xs) => foldLeft(xs,f(defaultVal,x))(f)\n",
    "}\n"
   ]
  },
  {
   "cell_type": "code",
   "execution_count": 50,
   "metadata": {},
   "outputs": [
    {
     "data": {
      "text/plain": [
       "foldLeftViaFoldRight: [A, B](l: List[A], z: B)(f: (B, A) => B)B\r\n"
      ]
     },
     "execution_count": 50,
     "metadata": {},
     "output_type": "execute_result"
    }
   ],
   "source": [
    "def foldLeftViaFoldRight[A,B](l: List[A], z: B)(f: (B,A) => B): B = \n",
    "  foldRight(l, (b:B) => b)((a,g) => b => g(f(b,a)))(z)"
   ]
  },
  {
   "cell_type": "code",
   "execution_count": 59,
   "metadata": {},
   "outputs": [
    {
     "data": {
      "text/plain": [
       "res21: Seq[Int] = List(1, 2, 3, 4, 5)\r\n"
      ]
     },
     "execution_count": 59,
     "metadata": {},
     "output_type": "execute_result"
    }
   ],
   "source": [
    "Seq(1,2,3,4,5).map(identity _)"
   ]
  },
  {
   "cell_type": "code",
   "execution_count": null,
   "metadata": {},
   "outputs": [],
   "source": []
  }
 ],
 "metadata": {
  "kernelspec": {
   "display_name": "spylon-kernel",
   "language": "scala",
   "name": "spylon-kernel"
  },
  "language_info": {
   "codemirror_mode": "text/x-scala",
   "file_extension": ".scala",
   "help_links": [
    {
     "text": "MetaKernel Magics",
     "url": "https://metakernel.readthedocs.io/en/latest/source/README.html"
    }
   ],
   "mimetype": "text/x-scala",
   "name": "scala",
   "pygments_lexer": "scala",
   "version": "0.4.1"
  }
 },
 "nbformat": 4,
 "nbformat_minor": 2
}
