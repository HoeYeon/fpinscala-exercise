{
 "cells": [
  {
   "cell_type": "code",
   "execution_count": 152,
   "metadata": {},
   "outputs": [
    {
     "data": {
      "text/plain": [
       "import scala.Option._\r\n",
       "import scala.{Either=>_}\r\n",
       "defined trait Option\r\n",
       "defined class Some\r\n",
       "defined object None\r\n"
      ]
     },
     "execution_count": 152,
     "metadata": {},
     "output_type": "execute_result"
    }
   ],
   "source": [
    "import scala.Option._\n",
    "import scala.{Either => _}\n",
    "sealed trait Option[+A] {\n",
    "    def map[B](f:A => B): Option[B] = {\n",
    "        this match{\n",
    "            case None => None\n",
    "            case Some(a) => Some(f(a))\n",
    "        }\n",
    "    }\n",
    "    def getOrElse[B >: A](default: => B): B = {\n",
    "        this match {\n",
    "            case None => default\n",
    "            case Some(a) => a\n",
    "        }\n",
    "    }\n",
    "    def flatMap[B](f:A => Option[B]): Option[B] = {\n",
    "        map(f).getOrElse(None)\n",
    "    }\n",
    "\n",
    "    def orElse[B>: A](ob: => Option[B]): Option[B] = {\n",
    "        Some(this).getOrElse(ob)\n",
    "    }\n",
    "    def filter(f:A => Boolean): Option[A] = {\n",
    "        flatMap(a => if (f(a)) Some(a) else None)   \n",
    "    }\n",
    "}\n",
    "case class Some[+A](get: A) extends Option[A]\n",
    "case object None extends Option[Nothing]"
   ]
  },
  {
   "cell_type": "code",
   "execution_count": 146,
   "metadata": {},
   "outputs": [
    {
     "data": {
      "text/plain": [
       "mean: (xs: Seq[Double])Option[Double]\r\n",
       "variance: (xs: Seq[Double])Option[Double]\r\n"
      ]
     },
     "execution_count": 146,
     "metadata": {},
     "output_type": "execute_result"
    }
   ],
   "source": [
    "def mean(xs: Seq[Double]): Option[Double] ={\n",
    "    if (xs.isEmpty) None\n",
    "    else Some(xs.sum / xs.length)\n",
    "}\n",
    "def variance(xs: Seq[Double]): Option[Double] = {\n",
    "    \n",
    "    mean(xs).map{m =>\n",
    "        println(\"hello\")\n",
    "        return  mean(xs.map(x => math.pow(x-m,2)))\n",
    "    }\n",
    "}"
   ]
  },
  {
   "cell_type": "code",
   "execution_count": 147,
   "metadata": {},
   "outputs": [
    {
     "name": "stdout",
     "output_type": "stream",
     "text": [
      "hello\r\n"
     ]
    },
    {
     "data": {
      "text/plain": [
       "x: List[Double] = List(1.0, 2.0, 3.0, 4.0)\r\n",
       "res75: Option[Double] = Some(1.25)\r\n"
      ]
     },
     "execution_count": 147,
     "metadata": {},
     "output_type": "execute_result"
    }
   ],
   "source": [
    "val x= List(1.0,2.0,3.0,4.0)\n",
    "variance(x)"
   ]
  },
  {
   "cell_type": "code",
   "execution_count": 148,
   "metadata": {},
   "outputs": [
    {
     "data": {
      "text/plain": [
       "y: List[Nothing] = List()\r\n",
       "res76: Option[Double] = None\r\n"
      ]
     },
     "execution_count": 148,
     "metadata": {},
     "output_type": "execute_result"
    }
   ],
   "source": [
    "val y= List()\n",
    "variance(y)"
   ]
  },
  {
   "cell_type": "code",
   "execution_count": null,
   "metadata": {},
   "outputs": [],
   "source": []
  },
  {
   "cell_type": "markdown",
   "metadata": {},
   "source": [
    "# 4.3"
   ]
  },
  {
   "cell_type": "code",
   "execution_count": null,
   "metadata": {},
   "outputs": [],
   "source": [
    "def parseInsuranceRateQuote(age:String, numberOfSpeedingTickets: String):Option[Double] = {\n",
    "    val optAge: Option[Int] = Try(age.toInt)\n",
    "    val optTickets: Option[Int] = Try(numberOfSpeedingTrickets.toInt)\n",
    "    insuranceRateQuote(optAge, optTickets)\n",
    "}"
   ]
  },
  {
   "cell_type": "code",
   "execution_count": 161,
   "metadata": {},
   "outputs": [
    {
     "data": {
      "text/plain": [
       "map2: [A, B, C](a: Option[A], b: Option[B])(f: (A, B) => C)Option[C]\r\n"
      ]
     },
     "execution_count": 161,
     "metadata": {},
     "output_type": "execute_result"
    }
   ],
   "source": [
    "def map2[A,B,C](a:Option[A], b: Option[B])(f: (A,B) => C):Option[C] = {\n",
    "    a.flatMap(aa => b.map(bb => f(aa,bb)))\n",
    "\n",
    "}"
   ]
  },
  {
   "cell_type": "markdown",
   "metadata": {},
   "source": [
    "# 4.4\n",
    "다시.. map2를 활용해서도 할 수 있음"
   ]
  },
  {
   "cell_type": "code",
   "execution_count": 223,
   "metadata": {},
   "outputs": [
    {
     "data": {
      "text/plain": [
       "sequence: [A](as: List[Option[A]])Option[List[A]]\r\n"
      ]
     },
     "execution_count": 223,
     "metadata": {},
     "output_type": "execute_result"
    }
   ],
   "source": [
    "def sequence[A](as: List[Option[A]]): Option[List[A]] = as match{\n",
    "    case Nil => None\n",
    "    case h::t => h.flatMap(hh => sequence(t).map(hh :: _))\n",
    "    \n",
    "}        \n"
   ]
  },
  {
   "cell_type": "markdown",
   "metadata": {},
   "source": [
    "# Either"
   ]
  },
  {
   "cell_type": "code",
   "execution_count": 207,
   "metadata": {},
   "outputs": [
    {
     "data": {
      "text/plain": [
       "defined trait Either\r\n",
       "defined class Left\r\n",
       "defined class Right\r\n"
      ]
     },
     "execution_count": 207,
     "metadata": {},
     "output_type": "execute_result"
    }
   ],
   "source": [
    "sealed trait Either[+E, +A]\n",
    "case class Left[+E](value:E) extends Either[E, Nothing]\n",
    "case class Right[+A](value: A) extends Either[Nothing, A]"
   ]
  },
  {
   "cell_type": "markdown",
   "metadata": {},
   "source": [
    "```scala\n",
    "def map2[A,B,C](a:Option[A], b: Option[B])(f: (A,B) => C):Option[C] = {\n",
    "    a.flatMap(aa => b.map(bb => f(aa,bb)))\n",
    "}\n",
    "```"
   ]
  },
  {
   "cell_type": "markdown",
   "metadata": {},
   "source": [
    "flat"
   ]
  },
  {
   "cell_type": "markdown",
   "metadata": {},
   "source": [
    "for-comprehension으로 작성하면 컴파일러는 중괄호 내를 flatMap으로 전개하고 마지막 묶음과 yield를 map으로 전개\n",
    "```scala\n",
    "def map2[A,B,C](a:Option[A], b: Option[B])(f: (A,B) => C):Option[C] = {\n",
    "    for {\n",
    "        aa <- a\n",
    "        bb <- b\n",
    "    } yield f(aa,bb)\n",
    "}\n",
    "```"
   ]
  },
  {
   "cell_type": "code",
   "execution_count": 225,
   "metadata": {},
   "outputs": [
    {
     "data": {
      "text/plain": [
       "defined trait Either\r\n",
       "defined class Left\r\n",
       "defined class Right\r\n"
      ]
     },
     "execution_count": 225,
     "metadata": {},
     "output_type": "execute_result"
    }
   ],
   "source": [
    "sealed trait Either[+E, +A]{\n",
    "    def map[B](f: A => B):Either[E,B] = this match{\n",
    "        case Right(a) =>  Right(f(a))\n",
    "        case Left(e)=> Left(e)\n",
    "    }\n",
    "    def flatMap[EE >: E, B](f: A => Either[EE,B]): Either[EE,B] = this match {\n",
    "        case Right(a) => f(a)\n",
    "        case Left(e) => Left(e)\n",
    "    }\n",
    "    def orElse[EE >: E, B>: A](b: => Either[EE,B]): Either[EE,B] = this match {\n",
    "        case Right(a) => Right(a)\n",
    "        case Left(e) => b\n",
    "    }\n",
    "//     def map2[EE >:E, B, C](b: Either[EE,B])(f:(A,B) => C):Either[EE,C] = {\n",
    "//         b.flatMap(bb => bb match {\n",
    "//             case Left(e) => \n",
    "//         })\n",
    "//     }\n",
    "\n",
    "}\n",
    "case class Left[+E](value:E) extends Either[E, Nothing]\n",
    "case class Right[+A](value: A) extends Either[Nothing, A]"
   ]
  },
  {
   "cell_type": "code",
   "execution_count": null,
   "metadata": {},
   "outputs": [],
   "source": []
  }
 ],
 "metadata": {
  "kernelspec": {
   "display_name": "spylon-kernel",
   "language": "scala",
   "name": "spylon-kernel"
  },
  "language_info": {
   "codemirror_mode": "text/x-scala",
   "file_extension": ".scala",
   "help_links": [
    {
     "text": "MetaKernel Magics",
     "url": "https://metakernel.readthedocs.io/en/latest/source/README.html"
    }
   ],
   "mimetype": "text/x-scala",
   "name": "scala",
   "pygments_lexer": "scala",
   "version": "0.4.1"
  }
 },
 "nbformat": 4,
 "nbformat_minor": 2
}
