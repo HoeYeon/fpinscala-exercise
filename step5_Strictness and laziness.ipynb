{
 "cells": [
  {
   "cell_type": "code",
   "execution_count": 202,
   "metadata": {},
   "outputs": [
    {
     "data": {
      "text/plain": [
       "defined trait Stream\r\n",
       "defined object Empty\r\n",
       "defined class Cons\r\n",
       "defined object Stream\r\n"
      ]
     },
     "execution_count": 202,
     "metadata": {},
     "output_type": "execute_result"
    }
   ],
   "source": [
    "sealed trait Stream[+A]{\n",
    "    def headOption: Option[A] = this match {\n",
    "        case Empty => None\n",
    "        case Cons(h, t) => Some(h())\n",
    "    }\n",
    "    \n",
    "    // 5.1\n",
    "    def toList: List[A] = this match{\n",
    "        case Empty => Nil\n",
    "        case Cons(h,t) => h() :: t().toList\n",
    "    }\n",
    "    \n",
    "    //5.2\n",
    "    def take(n:Int):List[A] = this match{\n",
    "        case Cons(h,t) if (n > 0) => h()::t().take(n-1)\n",
    "        case _  => Nil\n",
    "    }\n",
    "    \n",
    "    def drop(n:Int): List[A] = this match {\n",
    "        case Cons(h,t) if n > 0 => t().drop(n-1)\n",
    "        case _ => this.toList\n",
    "    }\n",
    "\n",
    "    \n",
    "    //5.3\n",
    "    def takeWhile(p: A => Boolean): Stream[A] = this match {\n",
    "        case Empty => Empty\n",
    "        case Cons(h,t) => if (p(h())) Cons(h,()=>t().takeWhile(p)) else Empty\n",
    "    }\n",
    "    \n",
    "    def foldRight[B](z: => B)(f: (A, => B) => B) : B = this match {\n",
    "        case Cons(h,t) => f(h(), t().foldRight(z)(f))\n",
    "        case _ => z\n",
    "    }\n",
    "    \n",
    "    def exists(f: A => Boolean):Boolean = {\n",
    "        this.foldRight(false)((x,xs) => f(x) || xs)\n",
    "    }\n",
    "    \n",
    "    //5.4\n",
    "    def forAll(p:A => Boolean): Boolean = {\n",
    "        this.foldRight(true)((a,b) => p(a) && b)\n",
    "    }\n",
    "    \n",
    "    //5.5\n",
    "    def takeWhile2(f:A => Boolean):Stream[A] = {\n",
    "        this.foldRight(Empty:Stream[A])(((x,xs) => if (f(x)) Cons(() => x,() =>xs) else Empty ))\n",
    "    }\n",
    "    \n",
    "    //5.6\n",
    "    def headOption2():Option[A] = {\n",
    "        this.foldRight(None:Option[A])((x,xs) => Some(x))\n",
    "    }\n",
    "    \n",
    "    //5.7\n",
    "    def map2[B](f:A => B):Stream[B] = {\n",
    "        this.foldRight(Empty:Stream[B])((x,xs) => Cons(() => f(x), () => xs))\n",
    "    }\n",
    "    \n",
    "    def filter2(f:A => Boolean):Stream[A] = {\n",
    "        this.foldRight(Empty:Stream[A])((x,xs) => if (f(x)) Cons(() => x, () => xs) else xs)\n",
    "    }\n",
    "    \n",
    "    def append[B >: A](as: => Stream[B]): Stream[B] = {\n",
    "        this.foldRight(as)((x,xs) => Cons(() => x,() => xs))\n",
    "    } \n",
    "    def flatMap[B](f:A => Stream[B]): Stream[B] = {\n",
    "        this.foldRight(Empty:Stream[B])((x,xs) => f(x).append(xs))\n",
    "    }\n",
    "    \n",
    "    def find(f: A => Boolean):Option[A] = {\n",
    "        filter2(f).headOption2()\n",
    "    }\n",
    "    \n",
    "}\n",
    "case object Empty extends Stream[Nothing]\n",
    "case class Cons[+A](h: () => A, t: () => Stream[A]) extends Stream[A]\n",
    "\n",
    "object Stream{\n",
    "    def cons[A](hd: => A, tl: => Stream[A]): Stream[A] = {\n",
    "    lazy val head = hd\n",
    "    lazy val tail = tl\n",
    "    Cons(() => head, () => tail)\n",
    "  }\n",
    "\n",
    "    def empty[A]: Stream[A] = Empty\n",
    "\n",
    "    def apply[A](as: A*): Stream[A] = {\n",
    "        if (as.isEmpty) empty\n",
    "        else cons(as.head, apply(as.tail: _*))\n",
    "  }\n",
    "    \n",
    "    \n",
    "}\n",
    "\n"
   ]
  },
  {
   "cell_type": "code",
   "execution_count": 203,
   "metadata": {},
   "outputs": [
    {
     "data": {
      "text/plain": [
       "ss: Stream[Int] = Cons(Stream$$$Lambda$2766/0x0000000801a06840@68716a34,Stream$$$Lambda$2767/0x0000000801a06c40@164c5890)\r\n"
      ]
     },
     "execution_count": 203,
     "metadata": {},
     "output_type": "execute_result"
    }
   ],
   "source": [
    "val ss = Stream.apply(1,2,3,4,5)"
   ]
  },
  {
   "cell_type": "code",
   "execution_count": 204,
   "metadata": {},
   "outputs": [
    {
     "data": {
      "text/plain": [
       "res93: List[Int] = List(1, 2, 3)\r\n"
      ]
     },
     "execution_count": 204,
     "metadata": {},
     "output_type": "execute_result"
    }
   ],
   "source": [
    "ss.take(3)"
   ]
  },
  {
   "cell_type": "code",
   "execution_count": 205,
   "metadata": {},
   "outputs": [
    {
     "data": {
      "text/plain": [
       "res94: List[Int] = List(4, 5)\r\n"
      ]
     },
     "execution_count": 205,
     "metadata": {},
     "output_type": "execute_result"
    }
   ],
   "source": [
    "ss.drop(3)"
   ]
  },
  {
   "cell_type": "code",
   "execution_count": 206,
   "metadata": {},
   "outputs": [
    {
     "data": {
      "text/plain": [
       "res95: List[Int] = List(1)\r\n"
      ]
     },
     "execution_count": 206,
     "metadata": {},
     "output_type": "execute_result"
    }
   ],
   "source": [
    "ss.takeWhile(a => a%2 == 1).toList"
   ]
  },
  {
   "cell_type": "code",
   "execution_count": 207,
   "metadata": {},
   "outputs": [
    {
     "data": {
      "text/plain": [
       "res96: Boolean = false\r\n"
      ]
     },
     "execution_count": 207,
     "metadata": {},
     "output_type": "execute_result"
    }
   ],
   "source": [
    "ss.forAll(_>3)"
   ]
  },
  {
   "cell_type": "code",
   "execution_count": 208,
   "metadata": {},
   "outputs": [
    {
     "data": {
      "text/plain": [
       "res97: List[Int] = List(1)\r\n"
      ]
     },
     "execution_count": 208,
     "metadata": {},
     "output_type": "execute_result"
    }
   ],
   "source": [
    "ss.takeWhile2(a => a%2 == 1).toList"
   ]
  },
  {
   "cell_type": "code",
   "execution_count": 209,
   "metadata": {},
   "outputs": [
    {
     "data": {
      "text/plain": [
       "res98: List[Int] = List(2, 4, 6, 8, 10)\r\n"
      ]
     },
     "execution_count": 209,
     "metadata": {},
     "output_type": "execute_result"
    }
   ],
   "source": [
    "ss.map2(_*2).toList"
   ]
  },
  {
   "cell_type": "code",
   "execution_count": 210,
   "metadata": {},
   "outputs": [
    {
     "data": {
      "text/plain": [
       "res99: List[Int] = List(2, 4)\r\n"
      ]
     },
     "execution_count": 210,
     "metadata": {},
     "output_type": "execute_result"
    }
   ],
   "source": [
    "ss.filter2(a => a%2 == 0).toList"
   ]
  },
  {
   "cell_type": "code",
   "execution_count": 211,
   "metadata": {},
   "outputs": [
    {
     "data": {
      "text/plain": [
       "res100: List[Int] = List(1, 2, 3, 4, 5, 66, 55, 44)\r\n"
      ]
     },
     "execution_count": 211,
     "metadata": {},
     "output_type": "execute_result"
    }
   ],
   "source": [
    "ss.append(Stream.apply(66,55,44)).toList"
   ]
  },
  {
   "cell_type": "code",
   "execution_count": 212,
   "metadata": {},
   "outputs": [
    {
     "data": {
      "text/plain": [
       "res101: List[Int] = List(1, 1, 2, 2, 3, 3, 4, 4, 5, 5)\r\n"
      ]
     },
     "execution_count": 212,
     "metadata": {},
     "output_type": "execute_result"
    }
   ],
   "source": [
    "ss.flatMap(x=>Stream(x,x)).toList"
   ]
  },
  {
   "cell_type": "code",
   "execution_count": 213,
   "metadata": {},
   "outputs": [
    {
     "data": {
      "text/plain": [
       "res102: Any = 1\r\n"
      ]
     },
     "execution_count": 213,
     "metadata": {},
     "output_type": "execute_result"
    }
   ],
   "source": [
    "ss.find(a => a%2 == 1).getOrElse(None)"
   ]
  },
  {
   "cell_type": "markdown",
   "metadata": {},
   "source": [
    "## 무한 스트림"
   ]
  },
  {
   "cell_type": "code",
   "execution_count": 214,
   "metadata": {},
   "outputs": [
    {
     "data": {
      "text/plain": [
       "ones: Stream[Int] = Cons(Stream$$$Lambda$2766/0x0000000801a06840@19ad3902,Stream$$$Lambda$2767/0x0000000801a06c40@6f9db82c)\r\n"
      ]
     },
     "execution_count": 214,
     "metadata": {},
     "output_type": "execute_result"
    }
   ],
   "source": [
    "val ones: Stream[Int] = Stream.cons(1,ones)"
   ]
  },
  {
   "cell_type": "code",
   "execution_count": 215,
   "metadata": {},
   "outputs": [
    {
     "data": {
      "text/plain": [
       "res103: List[Int] = List(1, 1, 1, 1, 1)\r\n"
      ]
     },
     "execution_count": 215,
     "metadata": {},
     "output_type": "execute_result"
    }
   ],
   "source": [
    "ones.take(5)"
   ]
  },
  {
   "cell_type": "code",
   "execution_count": 218,
   "metadata": {},
   "outputs": [
    {
     "data": {
      "text/plain": [
       "res106: Boolean = true\r\n"
      ]
     },
     "execution_count": 218,
     "metadata": {},
     "output_type": "execute_result"
    }
   ],
   "source": [
    "ones.map2(_ + 1).exists(_ % 2 == 0)"
   ]
  },
  {
   "cell_type": "code",
   "execution_count": 221,
   "metadata": {},
   "outputs": [
    {
     "data": {
      "text/plain": [
       "res109: Stream[Int] = Cons(Stream$$$Lambda$2766/0x0000000801a06840@19ad3902,Stream$$Lambda$2769/0x0000000801a06440@742d725d)\r\n"
      ]
     },
     "execution_count": 221,
     "metadata": {},
     "output_type": "execute_result"
    }
   ],
   "source": [
    "ones.takeWhile(_ == 1)"
   ]
  },
  {
   "cell_type": "code",
   "execution_count": 223,
   "metadata": {},
   "outputs": [
    {
     "data": {
      "text/plain": [
       "res111: Boolean = false\r\n"
      ]
     },
     "execution_count": 223,
     "metadata": {},
     "output_type": "execute_result"
    }
   ],
   "source": [
    "ones.forAll(_ != 1)"
   ]
  },
  {
   "cell_type": "code",
   "execution_count": 224,
   "metadata": {},
   "outputs": [
    {
     "data": {
      "text/plain": [
       "constant: [A](a: A)Stream[A]\r\n"
      ]
     },
     "execution_count": 224,
     "metadata": {},
     "output_type": "execute_result"
    }
   ],
   "source": [
    "def constant[A](a:A): Stream[A] = {\n",
    "    Stream.cons(a,constant(a))\n",
    "}"
   ]
  },
  {
   "cell_type": "code",
   "execution_count": 225,
   "metadata": {},
   "outputs": [
    {
     "data": {
      "text/plain": [
       "from: (n: Int)Stream[Int]\r\n"
      ]
     },
     "execution_count": 225,
     "metadata": {},
     "output_type": "execute_result"
    }
   ],
   "source": [
    "def from(n:Int): Stream[Int] = {\n",
    "    Stream.cons(n,from(n+1))\n",
    "}"
   ]
  },
  {
   "cell_type": "code",
   "execution_count": 229,
   "metadata": {},
   "outputs": [
    {
     "data": {
      "text/plain": [
       "fibs: ()Stream[Int]\r\n"
      ]
     },
     "execution_count": 229,
     "metadata": {},
     "output_type": "execute_result"
    }
   ],
   "source": [
    "def fibs():Stream[Int] = {\n",
    "    def go(a:Int,b:Int):Stream[Int] = {\n",
    "        Stream.cons(a,go(b,a+b))\n",
    "    }\n",
    "    go(0,1)\n",
    "   \n",
    "}"
   ]
  },
  {
   "cell_type": "code",
   "execution_count": 233,
   "metadata": {},
   "outputs": [
    {
     "data": {
      "text/plain": [
       "res114: List[Int] = List(0, 1, 1, 2, 3, 5, 8)\r\n"
      ]
     },
     "execution_count": 233,
     "metadata": {},
     "output_type": "execute_result"
    }
   ],
   "source": [
    "fibs().take(7)"
   ]
  },
  {
   "cell_type": "code",
   "execution_count": 269,
   "metadata": {},
   "outputs": [
    {
     "data": {
      "text/plain": [
       "unfold: [A, S](z: S)(f: S => Option[(A, S)])Stream[A]\r\n"
      ]
     },
     "execution_count": 269,
     "metadata": {},
     "output_type": "execute_result"
    }
   ],
   "source": [
    "def unfold[A,S](z:S)(f: S => Option[(A,S)]):Stream[A] = f(z) match {\n",
    "    case None => Empty\n",
    "    case Some((a,s)) => Stream.cons(a,unfold(s)(f))\n",
    "}"
   ]
  },
  {
   "cell_type": "code",
   "execution_count": 270,
   "metadata": {},
   "outputs": [
    {
     "data": {
      "text/plain": [
       "ones2: Stream[Int] = Cons(Stream$$$Lambda$2766/0x0000000801a06840@557353b5,Stream$$$Lambda$2767/0x0000000801a06c40@5d4e6044)\r\n"
      ]
     },
     "execution_count": 270,
     "metadata": {},
     "output_type": "execute_result"
    }
   ],
   "source": [
    "val ones2:Stream[Int] = unfold(1)(a =>Some((a,a)))"
   ]
  },
  {
   "cell_type": "code",
   "execution_count": 271,
   "metadata": {},
   "outputs": [
    {
     "data": {
      "text/plain": [
       "res121: List[Int] = List(1, 1, 1, 1, 1)\r\n"
      ]
     },
     "execution_count": 271,
     "metadata": {},
     "output_type": "execute_result"
    }
   ],
   "source": [
    "ones2.take(5)"
   ]
  },
  {
   "cell_type": "code",
   "execution_count": 272,
   "metadata": {},
   "outputs": [
    {
     "data": {
      "text/plain": [
       "constant2: [A](a: A)Stream[A]\r\n"
      ]
     },
     "execution_count": 272,
     "metadata": {},
     "output_type": "execute_result"
    }
   ],
   "source": [
    "def constant2[A](a:A):Stream[A] = {\n",
    "    unfold(a)(s =>Some((s,s)))\n",
    "}"
   ]
  },
  {
   "cell_type": "code",
   "execution_count": 273,
   "metadata": {},
   "outputs": [
    {
     "data": {
      "text/plain": [
       "res122: List[Int] = List(5, 5, 5, 5, 5)\r\n"
      ]
     },
     "execution_count": 273,
     "metadata": {},
     "output_type": "execute_result"
    }
   ],
   "source": [
    "constant(5).take(5)"
   ]
  },
  {
   "cell_type": "code",
   "execution_count": 276,
   "metadata": {},
   "outputs": [
    {
     "data": {
      "text/plain": [
       "from2: (a: Int)Stream[Int]\r\n"
      ]
     },
     "execution_count": 276,
     "metadata": {},
     "output_type": "execute_result"
    }
   ],
   "source": [
    "def from2(a:Int):Stream[Int] = {\n",
    "    unfold(a)(s => Some((s,s+1)))\n",
    "}"
   ]
  },
  {
   "cell_type": "code",
   "execution_count": 277,
   "metadata": {},
   "outputs": [
    {
     "data": {
      "text/plain": [
       "res124: List[Int] = List(1, 2, 3, 4, 5, 6, 7, 8, 9, 10)\r\n"
      ]
     },
     "execution_count": 277,
     "metadata": {},
     "output_type": "execute_result"
    }
   ],
   "source": [
    "from2(1).take(10)"
   ]
  },
  {
   "cell_type": "code",
   "execution_count": 283,
   "metadata": {},
   "outputs": [
    {
     "data": {
      "text/plain": [
       "fibs2: ()Stream[Int]\r\n"
      ]
     },
     "execution_count": 283,
     "metadata": {},
     "output_type": "execute_result"
    }
   ],
   "source": [
    "def fibs2():Stream[Int] = {\n",
    "    def go(a:Int,b:Int):Stream[Int] = {\n",
    "        unfold((a,b))((s:(Int,Int)) => Some(s._1,(s._2,s._1+s._2)))\n",
    "    }\n",
    "    go(0,1)\n",
    "   \n",
    "}"
   ]
  },
  {
   "cell_type": "code",
   "execution_count": 286,
   "metadata": {},
   "outputs": [
    {
     "data": {
      "text/plain": [
       "res127: List[Int] = List(0, 1, 1, 2, 3, 5, 8, 13, 21, 34)\r\n"
      ]
     },
     "execution_count": 286,
     "metadata": {},
     "output_type": "execute_result"
    }
   ],
   "source": [
    "fibs2().take(10)"
   ]
  },
  {
   "cell_type": "code",
   "execution_count": null,
   "metadata": {},
   "outputs": [],
   "source": []
  }
 ],
 "metadata": {
  "kernelspec": {
   "display_name": "spylon-kernel",
   "language": "scala",
   "name": "spylon-kernel"
  },
  "language_info": {
   "codemirror_mode": "text/x-scala",
   "file_extension": ".scala",
   "help_links": [
    {
     "text": "MetaKernel Magics",
     "url": "https://metakernel.readthedocs.io/en/latest/source/README.html"
    }
   ],
   "mimetype": "text/x-scala",
   "name": "scala",
   "pygments_lexer": "scala",
   "version": "0.4.1"
  }
 },
 "nbformat": 4,
 "nbformat_minor": 2
}
